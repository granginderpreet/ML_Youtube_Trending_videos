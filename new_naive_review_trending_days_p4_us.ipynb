{
  "cells": [
    {
      "cell_type": "code",
      "execution_count": 1,
      "metadata": {
        "colab": {
          "base_uri": "https://localhost:8080/"
        },
        "id": "rUVgL1wNNajZ",
        "outputId": "46b0e2df-4700-4b5e-fdcb-355d1540aa7b"
      },
      "outputs": [
        {
          "output_type": "stream",
          "name": "stdout",
          "text": [
            "Hit:1 https://developer.download.nvidia.com/compute/cuda/repos/ubuntu1804/x86_64  InRelease\n",
            "Get:2 https://cloud.r-project.org/bin/linux/ubuntu bionic-cran40/ InRelease [3,626 B]\n",
            "Get:3 http://security.ubuntu.com/ubuntu bionic-security InRelease [88.7 kB]\n",
            "Ign:4 https://developer.download.nvidia.com/compute/machine-learning/repos/ubuntu1804/x86_64  InRelease\n",
            "Hit:5 https://developer.download.nvidia.com/compute/machine-learning/repos/ubuntu1804/x86_64  Release\n",
            "Hit:6 http://archive.ubuntu.com/ubuntu bionic InRelease\n",
            "Hit:7 http://ppa.launchpad.net/c2d4u.team/c2d4u4.0+/ubuntu bionic InRelease\n",
            "Get:8 http://archive.ubuntu.com/ubuntu bionic-updates InRelease [88.7 kB]\n",
            "Hit:10 http://ppa.launchpad.net/cran/libgit2/ubuntu bionic InRelease\n",
            "Get:11 http://archive.ubuntu.com/ubuntu bionic-backports InRelease [74.6 kB]\n",
            "Hit:12 http://ppa.launchpad.net/deadsnakes/ppa/ubuntu bionic InRelease\n",
            "Get:13 http://ppa.launchpad.net/graphics-drivers/ppa/ubuntu bionic InRelease [21.3 kB]\n",
            "Get:14 http://security.ubuntu.com/ubuntu bionic-security/universe amd64 Packages [1,503 kB]\n",
            "Get:15 http://archive.ubuntu.com/ubuntu bionic-updates/universe amd64 Packages [2,277 kB]\n",
            "Get:16 http://security.ubuntu.com/ubuntu bionic-security/restricted amd64 Packages [932 kB]\n",
            "Get:17 http://security.ubuntu.com/ubuntu bionic-security/main amd64 Packages [2,765 kB]\n",
            "Get:18 http://security.ubuntu.com/ubuntu bionic-security/multiverse amd64 Packages [22.8 kB]\n",
            "Get:19 http://ppa.launchpad.net/graphics-drivers/ppa/ubuntu bionic/main amd64 Packages [44.3 kB]\n",
            "Get:20 http://archive.ubuntu.com/ubuntu bionic-updates/multiverse amd64 Packages [29.8 kB]\n",
            "Get:21 http://archive.ubuntu.com/ubuntu bionic-updates/main amd64 Packages [3,199 kB]\n",
            "Get:22 http://archive.ubuntu.com/ubuntu bionic-updates/restricted amd64 Packages [966 kB]\n",
            "Fetched 12.0 MB in 5s (2,417 kB/s)\n",
            "Reading package lists... Done\n"
          ]
        }
      ],
      "source": [
        "import os\n",
        "# Find the latest version of spark 3.0  from http://www.apache.org/dist/spark/ and enter as the spark version\n",
        "# For example:\n",
        "# spark_version = 'spark-3.0.3'\n",
        "spark_version = 'spark-3.2.1'\n",
        "os.environ['SPARK_VERSION']=spark_version\n",
        "\n",
        "# Install Spark and Java\n",
        "!apt-get update\n",
        "!apt-get install openjdk-8-jdk-headless -qq > /dev/null\n",
        "!wget -q http://www.apache.org/dist/spark/$SPARK_VERSION/$SPARK_VERSION-bin-hadoop2.7.tgz\n",
        "!tar xf $SPARK_VERSION-bin-hadoop2.7.tgz\n",
        "!pip install -q findspark\n",
        "\n",
        "# Set Environment Variables\n",
        "os.environ[\"JAVA_HOME\"] = \"/usr/lib/jvm/java-8-openjdk-amd64\"\n",
        "os.environ[\"SPARK_HOME\"] = f\"/content/{spark_version}-bin-hadoop2.7\"\n",
        "\n",
        "# Start a SparkSession\n",
        "import findspark\n",
        "findspark.init()"
      ]
    },
    {
      "cell_type": "code",
      "execution_count": 2,
      "metadata": {
        "id": "Fh7pnFKkNyIP"
      },
      "outputs": [],
      "source": [
        "# Start Spark session\n",
        "from pyspark.sql import SparkSession\n",
        "spark = SparkSession.builder.appName(\"NaiveBayes\").getOrCreate()\n",
        "\n",
        "#from pyspark.context import SparkContext\n",
        "\n",
        "#sc=SparkContext(\"local\", \"test\")"
      ]
    },
    {
      "cell_type": "code",
      "execution_count": 3,
      "metadata": {
        "colab": {
          "base_uri": "https://localhost:8080/"
        },
        "id": "qnI0zdY5NYCJ",
        "outputId": "def5185e-2343-4638-e394-733e1e3dd24f"
      },
      "outputs": [
        {
          "output_type": "stream",
          "name": "stdout",
          "text": [
            "+---+-----+------+----------------+-------------+--------------------+----------+\n",
            "|_c0|index|target|       cat_codes|trending_days|                tags|category_e|\n",
            "+---+-----+------+----------------+-------------+--------------------+----------+\n",
            "|  0| 2098|     0|          Gaming|            1|PokÃ©mon: Twiligh...|       5.0|\n",
            "|  1| 2099|     0|           Music|            1|Mo3|Dallas|Texas|...|       7.0|\n",
            "|  2| 2100|     0|  People & Blogs|            1|Cinemassacre Chan...|      10.0|\n",
            "|  3| 2101|     0| News & Politics|            1|              [None]|       8.0|\n",
            "|  4| 2102|     0|          Comedy|            1|ryan george|comed...|       1.0|\n",
            "|  5| 2103|     0| News & Politics|            1|7NEWS|Australia|N...|       8.0|\n",
            "|  6| 2104|     0|          Comedy|            1|chevy|mahk|zebra ...|       1.0|\n",
            "|  7| 2105|     0|   Entertainment|            1|              [None]|       3.0|\n",
            "|  8| 2106|     0|   Entertainment|            1|bradley martyn|st...|       3.0|\n",
            "|  9| 2097|     0|           Music|            1|matandsavanna|Mat...|       7.0|\n",
            "| 10| 2107|     0| News & Politics|            1|LEBANON|BEIRUT|EX...|       8.0|\n",
            "| 11| 2086|     0|Film & Animation|            1|viz media|anime|o...|       4.0|\n",
            "| 12| 2087|     0|           Music|            1| Russ|WHY|MusicVideo|       7.0|\n",
            "| 13| 2088|     0| News & Politics|            1|BEIRUT|LEBANON|MI...|       8.0|\n",
            "| 14| 2089|     0|   Entertainment|            1|chloeandhalle|Chl...|       3.0|\n",
            "| 15| 2090|     0|           Music|            1|GLOW|glow|haschak...|       7.0|\n",
            "| 16| 2091|     0|          Comedy|            1|unus annus|markip...|       1.0|\n",
            "| 17| 2092|     0|          Sports|            1|              [None]|      13.0|\n",
            "| 18| 2093|     0|          Comedy|            1|tomska|thomas rid...|       1.0|\n",
            "| 19| 2094|     0|           Music|            1|sada baby|fmb dz|...|       7.0|\n",
            "+---+-----+------+----------------+-------------+--------------------+----------+\n",
            "only showing top 20 rows\n",
            "\n"
          ]
        }
      ],
      "source": [
        "# Read in data from S3 Buckets\n",
        "from pyspark import SparkFiles\n",
        "url =\"https://project4ak.s3.amazonaws.com/tags_df5.csv\"\n",
        "spark.sparkContext.addFile(url)\n",
        "df = spark.read.csv(SparkFiles.get(\"tags_df5.csv\"), sep=\",\", header=True)\n",
        "\n",
        "# Show DataFrame\n",
        "df.show()"
      ]
    },
    {
      "cell_type": "code",
      "source": [
        "df=df.withColumn('category_e',df['category_e'].cast(\"float\").alias('category_e'))"
      ],
      "metadata": {
        "id": "PhE4O47IQNDM"
      },
      "execution_count": 4,
      "outputs": []
    },
    {
      "cell_type": "code",
      "execution_count": 5,
      "metadata": {
        "colab": {
          "base_uri": "https://localhost:8080/"
        },
        "id": "4BbzYExyNYCR",
        "outputId": "66bec2de-2e0e-49df-be76-bdad55e5a09f"
      },
      "outputs": [
        {
          "output_type": "stream",
          "name": "stdout",
          "text": [
            "+---+-----+------+----------------+-------------+--------------------+----------+------+\n",
            "|_c0|index|target|       cat_codes|trending_days|                tags|category_e|length|\n",
            "+---+-----+------+----------------+-------------+--------------------+----------+------+\n",
            "|  0| 2098|     0|          Gaming|            1|PokÃ©mon: Twiligh...|       5.0|    47|\n",
            "|  1| 2099|     0|           Music|            1|Mo3|Dallas|Texas|...|       7.0|    33|\n",
            "|  2| 2100|     0|  People & Blogs|            1|Cinemassacre Chan...|      10.0|    90|\n",
            "|  3| 2101|     0| News & Politics|            1|              [None]|       8.0|     6|\n",
            "|  4| 2102|     0|          Comedy|            1|ryan george|comed...|       1.0|   448|\n",
            "|  5| 2103|     0| News & Politics|            1|7NEWS|Australia|N...|       8.0|   138|\n",
            "|  6| 2104|     0|          Comedy|            1|chevy|mahk|zebra ...|       1.0|   116|\n",
            "|  7| 2105|     0|   Entertainment|            1|              [None]|       3.0|     6|\n",
            "|  8| 2106|     0|   Entertainment|            1|bradley martyn|st...|       3.0|   202|\n",
            "|  9| 2097|     0|           Music|            1|matandsavanna|Mat...|       7.0|    87|\n",
            "| 10| 2107|     0| News & Politics|            1|LEBANON|BEIRUT|EX...|       8.0|   430|\n",
            "| 11| 2086|     0|Film & Animation|            1|viz media|anime|o...|       4.0|   211|\n",
            "| 12| 2087|     0|           Music|            1| Russ|WHY|MusicVideo|       7.0|    19|\n",
            "| 13| 2088|     0| News & Politics|            1|BEIRUT|LEBANON|MI...|       8.0|   255|\n",
            "| 14| 2089|     0|   Entertainment|            1|chloeandhalle|Chl...|       3.0|   193|\n",
            "| 15| 2090|     0|           Music|            1|GLOW|glow|haschak...|       7.0|   465|\n",
            "| 16| 2091|     0|          Comedy|            1|unus annus|markip...|       1.0|    65|\n",
            "| 17| 2092|     0|          Sports|            1|              [None]|      13.0|     6|\n",
            "| 18| 2093|     0|          Comedy|            1|tomska|thomas rid...|       1.0|   344|\n",
            "| 19| 2094|     0|           Music|            1|sada baby|fmb dz|...|       7.0|   441|\n",
            "+---+-----+------+----------------+-------------+--------------------+----------+------+\n",
            "only showing top 20 rows\n",
            "\n"
          ]
        }
      ],
      "source": [
        "from pyspark.sql.functions import length\n",
        "# Create a length column to be used as a future feature \n",
        "data_df = df.withColumn('length', length(df['tags']))\n",
        "data_df.show()"
      ]
    },
    {
      "cell_type": "markdown",
      "metadata": {
        "id": "od7Qj0sxNYCW"
      },
      "source": [
        "### Feature Transformations\n"
      ]
    },
    {
      "cell_type": "code",
      "execution_count": 6,
      "metadata": {
        "id": "59dwxefsNYCX"
      },
      "outputs": [],
      "source": [
        "from pyspark.ml.feature import Tokenizer, StopWordsRemover, HashingTF, IDF, StringIndexer\n",
        "# Create all the features to the data set\n",
        "trending_days = StringIndexer(inputCol='target',outputCol='label')\n",
        "tokenizer = Tokenizer(inputCol=\"tags\", outputCol=\"token_tags\")\n",
        "stopremove = StopWordsRemover(inputCol='token_tags',outputCol='stop_tokens')\n",
        "hashingTF = HashingTF(inputCol=\"stop_tokens\", outputCol='hash_token')\n",
        "idf = IDF(inputCol='hash_token', outputCol='idf_token')\n"
      ]
    },
    {
      "cell_type": "code",
      "source": [
        ""
      ],
      "metadata": {
        "id": "LMlvNTyF9g1W"
      },
      "execution_count": 6,
      "outputs": []
    },
    {
      "cell_type": "code",
      "execution_count": 7,
      "metadata": {
        "id": "yssO0_Q5NYCb"
      },
      "outputs": [],
      "source": [
        "from pyspark.ml.feature import VectorAssembler\n",
        "from pyspark.ml.linalg import Vector\n",
        "\n",
        "# Create feature vectors\n",
        "clean_up = VectorAssembler(inputCols=['idf_token','length', 'category_e'], outputCol='features')"
      ]
    },
    {
      "cell_type": "code",
      "execution_count": 8,
      "metadata": {
        "id": "E_YyUpR3NYCf"
      },
      "outputs": [],
      "source": [
        "# Create a and run a data processing Pipeline\n",
        "from pyspark.ml import Pipeline\n",
        "data_prep_pipeline = Pipeline(stages=[trending_days, tokenizer, stopremove, hashingTF, idf, clean_up])"
      ]
    },
    {
      "cell_type": "code",
      "execution_count": 9,
      "metadata": {
        "id": "qBViHQOaNYCj"
      },
      "outputs": [],
      "source": [
        "# Fit and transform the pipeline\n",
        "cleaner = data_prep_pipeline.fit(data_df)\n",
        "cleaned = cleaner.transform(data_df)"
      ]
    },
    {
      "cell_type": "code",
      "execution_count": 10,
      "metadata": {
        "colab": {
          "base_uri": "https://localhost:8080/"
        },
        "id": "kDODyxF7NYCn",
        "outputId": "a22a40e7-1a6f-4e74-8641-54cc199737bc"
      },
      "outputs": [
        {
          "output_type": "stream",
          "name": "stdout",
          "text": [
            "+-----+--------------------+\n",
            "|label|            features|\n",
            "+-----+--------------------+\n",
            "|  1.0|(262146,[62357,13...|\n",
            "|  1.0|(262146,[56612,25...|\n",
            "|  1.0|(262146,[22784,26...|\n",
            "|  1.0|(262146,[10705,26...|\n",
            "|  1.0|(262146,[7178,395...|\n",
            "|  1.0|(262146,[7123,497...|\n",
            "|  1.0|(262146,[16108,11...|\n",
            "|  1.0|(262146,[10705,26...|\n",
            "|  1.0|(262146,[45233,47...|\n",
            "|  1.0|(262146,[33291,17...|\n",
            "|  1.0|(262146,[2614,898...|\n",
            "|  1.0|(262146,[76201,85...|\n",
            "|  1.0|(262146,[208989,2...|\n",
            "|  1.0|(262146,[26459,27...|\n",
            "|  1.0|(262146,[15483,43...|\n",
            "|  1.0|(262146,[9738,312...|\n",
            "|  1.0|(262146,[110334,1...|\n",
            "|  1.0|(262146,[10705,26...|\n",
            "|  1.0|(262146,[21209,28...|\n",
            "|  1.0|(262146,[4151,328...|\n",
            "+-----+--------------------+\n",
            "only showing top 20 rows\n",
            "\n"
          ]
        }
      ],
      "source": [
        "# Show label and resulting features\n",
        "cleaned.select(['label', 'features']).show()"
      ]
    },
    {
      "cell_type": "code",
      "execution_count": 11,
      "metadata": {
        "id": "WzfCQmrVNYCr"
      },
      "outputs": [],
      "source": [
        "from pyspark.ml.classification import NaiveBayes\n",
        "# Break data down into a training set and a testing set\n",
        "training, testing = cleaned.randomSplit([0.7, 0.3])\n",
        "\n",
        "# Create a Naive Bayes model and fit training data\n",
        "nb = NaiveBayes()\n",
        "predictor = nb.fit(training)"
      ]
    },
    {
      "cell_type": "code",
      "source": [
        "from pyspark.ml.regression import LinearRegression\n",
        "\n",
        "lr = LinearRegression(featuresCol = 'features', labelCol='label', maxIter=10, regParam=0.3, elasticNetParam=0.8)\n",
        "lr_model = lr.fit(training)\n",
        "print(\"Coefficients: \" + str(lr_model.coefficients))\n",
        "print(\"Intercept: \" + str(lr_model.intercept))"
      ],
      "metadata": {
        "colab": {
          "base_uri": "https://localhost:8080/"
        },
        "id": "Pao0t4rJufy0",
        "outputId": "2da0ce29-b312-4b68-dadb-54ba0f5ad711"
      },
      "execution_count": 12,
      "outputs": [
        {
          "output_type": "stream",
          "name": "stdout",
          "text": [
            "Coefficients: (262146,[],[])\n",
            "Intercept: 0.2764010420145615\n"
          ]
        }
      ]
    },
    {
      "cell_type": "code",
      "execution_count": 13,
      "metadata": {
        "colab": {
          "base_uri": "https://localhost:8080/"
        },
        "id": "zeckHhg5NYCv",
        "outputId": "4137720c-0fa2-4bbd-94a0-b7dfad4de946"
      },
      "outputs": [
        {
          "output_type": "stream",
          "name": "stdout",
          "text": [
            "+-----+-----+------+--------------------+-------------+--------------------+----------+------+-----+--------------------+--------------------+--------------------+--------------------+--------------------+--------------------+--------------------+----------+\n",
            "|  _c0|index|target|           cat_codes|trending_days|                tags|category_e|length|label|          token_tags|         stop_tokens|          hash_token|           idf_token|            features|       rawPrediction|         probability|prediction|\n",
            "+-----+-----+------+--------------------+-------------+--------------------+----------+------+-----+--------------------+--------------------+--------------------+--------------------+--------------------+--------------------+--------------------+----------+\n",
            "|    1| 2099|     0|               Music|            1|Mo3|Dallas|Texas|...|       7.0|    33|  1.0|[mo3|dallas|texas...|[mo3|dallas|texas...|(262144,[56612,25...|(262144,[56612,25...|(262146,[56612,25...|[-221.46133057342...|[0.99999990311659...|       0.0|\n",
            "| 1000| 6847|     0|               Music|            4|billboard|billboa...|       7.0|   434|  1.0|[billboard|billbo...|[billboard|billbo...|(262144,[3896,109...|(262144,[3896,109...|(262146,[3896,109...|[-2850.8846218132...|[1.21586525657243...|       1.0|\n",
            "|10001|60277|     1|              Gaming|           16|tommyinnit|minecr...|       5.0|   415|  0.0|[tommyinnit|minec...|[tommyinnit|minec...|(262144,[2120,414...|(262144,[2120,414...|(262146,[2120,414...|[-2233.4778436969...|[1.0,4.5137189712...|       0.0|\n",
            "|10010|61033|     1|       Entertainment|           13|funnymike|funny m...|       3.0|   321|  0.0|[funnymike|funny,...|[funnymike|funny,...|(262144,[4997,637...|(262144,[4997,637...|(262146,[4997,637...|[-2798.3893837291...|[4.97583380037335...|       1.0|\n",
            "|10014|60706|     1|               Music|           13|Lil|Baby|Durk|How...|       7.0|    82|  0.0|[lil|baby|durk|ho...|[lil|baby|durk|ho...|(262144,[90538],[...|(262144,[90538],[...|(262146,[90538,26...|[-181.94936927828...|[0.88677083163567...|       0.0|\n",
            "|10016|60721|     1|       Entertainment|           15|Unity|Unity game ...|       3.0|   458|  0.0|[unity|unity, gam...|[unity|unity, gam...|(262144,[2304,120...|(262144,[2304,120...|(262146,[2304,120...|[-4221.2056769801...|[1.0,3.5618512479...|       0.0|\n",
            "| 1002| 6459|     1|       Entertainment|            6|BLACKPINK|Ice Cre...|       3.0|   512|  0.0|[blackpink|ice, c...|[blackpink|ice, c...|(262144,[14433,25...|(262144,[14433,25...|(262146,[14433,25...|[-4552.6724729064...|[1.0,5.3027217217...|       0.0|\n",
            "|10023|62023|     1|      People & Blogs|           10|how to make gyoza...|      10.0|   447|  0.0|[how, to, make, g...|[make, gyoza|home...|(262144,[2220,650...|(262144,[2220,650...|(262146,[2220,650...|[-4426.7572096304...|[1.0,2.3349222973...|       0.0|\n",
            "|10025|62013|     1|Science & Technology|            9|engadget|technolo...|      12.0|    59|  0.0|[engadget|technol...|[engadget|technol...|(262144,[106481,2...|(262144,[106481,2...|(262146,[106481,2...|[-296.04411066489...|[0.99999991078052...|       0.0|\n",
            "|10029|61680|     1|              Gaming|           10|              [None]|       5.0|     6|  0.0|            [[none]]|            [[none]]|(262144,[10705],[...|(262144,[10705],[...|(262146,[10705,26...|[-37.076368737409...|[0.74820384896574...|       0.0|\n",
            "| 1003| 6839|     0|               Music|            4|Oliver Tree|Olive...|       7.0|   302|  1.0|[oliver, tree|oli...|[oliver, tree|oli...|(262144,[10200,12...|(262144,[10200,12...|(262146,[10200,12...|[-2877.4376910162...|[3.65439424251775...|       1.0|\n",
            "|10031|61598|     1|              Sports|           12|moochie|2hype|bas...|      13.0|   143|  0.0|[moochie|2hype|ba...|[moochie|2hype|ba...|(262144,[65050,69...|(262144,[65050,69...|(262146,[65050,69...|[-948.62487375320...|[4.60935619541019...|       1.0|\n",
            "|10032|61707|     1|              Sports|           11|first take boxing...|      13.0|   443|  0.0|[first, take, box...|[first, take, box...|(262144,[2120,282...|(262144,[2120,282...|(262146,[2120,282...|[-3681.4405852659...|[1.0,4.4288088332...|       0.0|\n",
            "|10036|61221|     1|    Film & Animation|           13|meatcanyon|storyt...|       4.0|    68|  0.0|[meatcanyon|story...|[meatcanyon|story...|(262144,[11630,20...|(262144,[11630,20...|(262146,[11630,20...|[-337.21569131519...|[0.99999999999979...|       0.0|\n",
            "|10044|61659|     1|       Entertainment|           12|              [None]|       3.0|     6|  0.0|            [[none]]|            [[none]]|(262144,[10705],[...|(262144,[10705],[...|(262146,[10705,26...|[-28.824453155575...|[0.77144026604372...|       0.0|\n",
            "|10046|61321|     1|              Comedy|           13|              [None]|       1.0|     6|  0.0|            [[none]]|            [[none]]|(262144,[10705],[...|(262144,[10705],[...|(262146,[10705,26...|[-20.572537573740...|[0.79312525849477...|       0.0|\n",
            "|10050|61096|     1|       Entertainment|           13|              [None]|       3.0|     6|  0.0|            [[none]]|            [[none]]|(262144,[10705],[...|(262144,[10705],[...|(262146,[10705,26...|[-28.824453155575...|[0.77144026604372...|       0.0|\n",
            "|10052|61286|     1|               Music|            9|JYP Entertainment...|       7.0|   328|  0.0|[jyp, entertainme...|[jyp, entertainme...|(262144,[31666,37...|(262144,[31666,37...|(262146,[31666,37...|[-2078.0147525209...|[1.0,4.1020336964...|       0.0|\n",
            "|10056|61506|     1|    Film & Animation|           12|jaiden|animations...|       4.0|   198|  0.0|[jaiden|animation...|[jaiden|animation...|(262144,[1499,541...|(262144,[1499,541...|(262146,[1499,541...|[-1538.8643549504...|[0.96887834264106...|       0.0|\n",
            "|10058|61132|     1|              Gaming|           13|minecraft|prison|...|       5.0|   141|  0.0|[minecraft|prison...|[minecraft|prison...|(262144,[3280,975...|(262144,[3280,975...|(262146,[3280,975...|[-972.95488727502...|[0.99999999999872...|       0.0|\n",
            "|10060|61494|     1|              Comedy|           12|Fyp|For you|For y...|       1.0|   109|  0.0|[fyp|for, you|for...|[fyp|for, you|for...|(262144,[5451,516...|(262144,[5451,516...|(262146,[5451,516...|[-972.73893436506...|[0.98595522286350...|       0.0|\n",
            "|10062|61072|     1|       Entertainment|           14|logan paul vlog|l...|       3.0|   131|  0.0|[logan, paul, vlo...|[logan, paul, vlo...|(262144,[4186,194...|(262144,[4186,194...|(262146,[4186,194...|[-577.35548267020...|[1.0,2.4771376044...|       0.0|\n",
            "|10067|62276|     1|       Entertainment|           10|loki|loki episode...|       3.0|   444|  0.0|[loki|loki, episo...|[loki|loki, episo...|(262144,[3104,846...|(262144,[3104,846...|(262146,[3104,846...|[-3319.6715832340...|[1.0,3.3787066361...|       0.0|\n",
            "|10071|62360|     1|              Gaming|            9|fortnite|fortnite...|       5.0|   120|  0.0|[fortnite|fortnit...|[fortnite|fortnit...|(262144,[1225,855...|(262144,[1225,855...|(262146,[1225,855...|[-441.23545173393...|[0.99902259642298...|       0.0|\n",
            "|10072|62210|     1|              Sports|            8|TyC|Sports|TyC Sp...|      13.0|    21|  0.0|[tyc|sports|tyc, ...|[tyc|sports|tyc, ...|(262144,[76489,80...|(262144,[76489,80...|(262146,[76489,80...|[-216.20349830144...|[0.99999896742009...|       0.0|\n",
            "|10074|62438|     1|              Gaming|           10|minecraft myths|m...|       5.0|   234|  0.0|[minecraft, myths...|[minecraft, myths...|(262144,[2624,137...|(262144,[2624,137...|(262146,[2624,137...|[-1802.0495848962...|[1.0,2.7877085937...|       0.0|\n",
            "|10075|62318|     1|    Film & Animation|           10|Animated|dungeons...|       4.0|   269|  0.0|[animated|dungeon...|[animated|dungeon...|(262144,[68432,82...|(262144,[68432,82...|(262146,[68432,82...|[-1816.8945072175...|[0.99999999999997...|       0.0|\n",
            "|10081|62408|     1|    Film & Animation|           10|theamaazing|amaaz...|       4.0|   100|  0.0|[theamaazing|amaa...|[theamaazing|amaa...|(262144,[1734,199...|(262144,[1734,199...|(262146,[1734,199...|[-423.33776887366...|[0.00716610922610...|       1.0|\n",
            "|10087|63264|     1|              Gaming|            6|              [None]|       5.0|     6|  0.0|            [[none]]|            [[none]]|(262144,[10705],[...|(262144,[10705],[...|(262146,[10705,26...|[-37.076368737409...|[0.74820384896574...|       0.0|\n",
            "|10090|61857|     1|              Gaming|           12|fortnite|dantdm|d...|       5.0|    52|  0.0|[fortnite|dantdm|...|[fortnite|dantdm|...|(262144,[146076,1...|(262144,[146076,1...|(262146,[146076,1...|[-347.14181813377...|[0.98138543222812...|       0.0|\n",
            "|10091|61869|     1|              Gaming|           12|FaZe|FaZeClan|FaZ...|       5.0|   227|  0.0|[faze|fazeclan|fa...|[faze|fazeclan|fa...|(262144,[7952,867...|(262144,[7952,867...|(262146,[7952,867...|[-1653.6298022469...|[1.0,1.7936970600...|       0.0|\n",
            "|10092|61844|     1|              Gaming|           12|minecraft|minecra...|       5.0|   131|  0.0|[minecraft|minecr...|[minecraft|minecr...|(262144,[8804,204...|(262144,[8804,204...|(262146,[8804,204...|[-1031.2515863535...|[0.99999999998254...|       0.0|\n",
            "|10094|61890|     1|      People & Blogs|           12|life in looks sel...|      10.0|   430|  0.0|[life, in, looks,...|[life, looks, sel...|(262144,[2856,315...|(262144,[2856,315...|(262146,[2856,315...|[-4259.7326184510...|[1.0,5.6812418800...|       0.0|\n",
            "|10095|61900|     1|    Autos & Vehicles|           10|Ford Maverick|New...|       0.0|   167|  0.0|[ford, maverick|n...|[ford, maverick|n...|(262144,[954,3824...|(262144,[954,3824...|(262146,[954,3824...|[-1608.4809559734...|[1.0,1.4767262890...|       0.0|\n",
            "|10096|62767|     1|              Gaming|            8|fortnite|fortnite...|       5.0|   120|  0.0|[fortnite|fortnit...|[fortnite|fortnit...|(262144,[1225,855...|(262144,[1225,855...|(262146,[1225,855...|[-441.23545173393...|[0.99902259642298...|       0.0|\n",
            "|10097|61773|     1|              Gaming|           12|lachlan lachy for...|       5.0|   205|  0.0|[lachlan, lachy, ...|[lachlan, lachy, ...|(262144,[5455,389...|(262144,[5455,389...|(262146,[5455,389...|[-1052.6588823430...|[0.99999970983900...|       0.0|\n",
            "|10098|62796|     1|              Sports|            7|TyC|Sports|TyC Sp...|      13.0|    21|  0.0|[tyc|sports|tyc, ...|[tyc|sports|tyc, ...|(262144,[76489,80...|(262144,[76489,80...|(262146,[76489,80...|[-216.20349830144...|[0.99999896742009...|       0.0|\n",
            "|10099|61785|     1|              Gaming|           12|fortnite|fortnite...|       5.0|   120|  0.0|[fortnite|fortnit...|[fortnite|fortnit...|(262144,[1225,855...|(262144,[1225,855...|(262146,[1225,855...|[-441.23545173393...|[0.99902259642298...|       0.0|\n",
            "|10103|62784|     1|              Gaming|            8|              [None]|       5.0|     6|  0.0|            [[none]]|            [[none]]|(262144,[10705],[...|(262144,[10705],[...|(262146,[10705,26...|[-37.076368737409...|[0.74820384896574...|       0.0|\n",
            "|10112|62610|     1|              Gaming|            7|pressure washing|...|       5.0|   437|  0.0|[pressure, washin...|[pressure, washin...|(262144,[15171,41...|(262144,[15171,41...|(262146,[15171,41...|[-4026.6409564695...|[3.79561301053120...|       1.0|\n",
            "|10114|62682|     1|              Gaming|           10|minecraft|1.17|ca...|       5.0|   445|  0.0|[minecraft|1.17|c...|[minecraft|1.17|c...|(262144,[13715,50...|(262144,[13715,50...|(262146,[13715,50...|[-3360.4858771508...|[1.0,1.0705360234...|       0.0|\n",
            "|10116|62710|     1|       Entertainment|           10|TFIL|ELTON CASTEE...|       3.0|   452|  0.0|[tfil|elton, cast...|[tfil|elton, cast...|(262144,[3274,680...|(262144,[3274,680...|(262146,[3274,680...|[-4135.1873111931...|[0.99999940940828...|       0.0|\n",
            "|10118|62646|     1|              Gaming|            9|minecraft|Sapnap|...|       5.0|   254|  0.0|[minecraft|sapnap...|[minecraft|sapnap...|(262144,[25348,70...|(262144,[25348,70...|(262146,[25348,70...|[-880.93096819445...|[8.32331878846776...|       1.0|\n",
            "| 1013| 6114|     1|      People & Blogs|            7|the bramfam|bramf...|      10.0|    40|  0.0|[the, bramfam|bra...|[bramfam|bramfam|...|(262144,[125178,2...|(262144,[125178,2...|(262146,[125178,2...|[-216.26882602250...|[0.99756662968390...|       0.0|\n",
            "|10130|63238|     1|    Film & Animation|            8|Loki easter eggs|...|       4.0|   191|  0.0|[loki, easter, eg...|[loki, easter, eg...|(262144,[8465,109...|(262144,[8465,109...|(262146,[8465,109...|[-1473.5863454638...|[1.0,3.2658893834...|       0.0|\n",
            "|10133|61761|     1|              Gaming|           13|yt:cc=on|fortnite...|       5.0|   251|  0.0|[yt:cc=on|fortnit...|[yt:cc=on|fortnit...|(262144,[12524,49...|(262144,[12524,49...|(262146,[12524,49...|[-1901.6089487227...|[1.0,1.0991419547...|       0.0|\n",
            "|10137|62168|     1|    Autos & Vehicles|           12|Mazda|Miata|Mazda...|       0.0|   235|  0.0|[mazda|miata|mazd...|[mazda|miata|mazd...|(262144,[3657,130...|(262144,[3657,130...|(262146,[3657,130...|[-2275.9960380209...|[1.0,2.2035288584...|       0.0|\n",
            "|10139|62486|     1|               Music|            8|ë°©íƒ„ì†Œë…„ë‹¨|B...|       7.0|   105|  0.0|[ë°©íƒ„ì†œë…„ë‹¨|...|[ë°©íƒ„ì†œë…„ë‹¨|...|(262144,[19227],[...|(262144,[19227],[...|(262146,[19227,26...|[-161.25241687698...|[0.99999994208868...|       0.0|\n",
            "|10140|62144|     1|       Entertainment|           12|kay|fazekay|faze ...|       3.0|   334|  0.0|[kay|fazekay|faze...|[kay|fazekay|faze...|(262144,[1294,212...|(262144,[1294,212...|(262146,[1294,212...|[-2703.5021224483...|[1.0,4.1743820493...|       0.0|\n",
            "|10141|62340|     1|              Gaming|           12|friday night funk...|       5.0|   376|  0.0|[friday, night, f...|[friday, night, f...|(262144,[10017,30...|(262144,[10017,30...|(262146,[10017,30...|[-1940.9121160044...|[1.0,5.0755555432...|       0.0|\n",
            "+-----+-----+------+--------------------+-------------+--------------------+----------+------+-----+--------------------+--------------------+--------------------+--------------------+--------------------+--------------------+--------------------+----------+\n",
            "only showing top 50 rows\n",
            "\n"
          ]
        }
      ],
      "source": [
        "# Tranform the model with the testing data\n",
        "test_results = predictor.transform(testing)\n",
        "test_results.show(50)"
      ]
    },
    {
      "cell_type": "code",
      "execution_count": 14,
      "metadata": {
        "colab": {
          "base_uri": "https://localhost:8080/"
        },
        "id": "OVFrWcHINYCz",
        "outputId": "9e743dc1-2dc0-4ac1-c4ac-77c7f5696bc7"
      },
      "outputs": [
        {
          "output_type": "stream",
          "name": "stdout",
          "text": [
            "Accuracy of model at predicting reviews was: 0.621882\n"
          ]
        }
      ],
      "source": [
        "# Use the Class Evaluator for a cleaner description\n",
        "from pyspark.ml.evaluation import MulticlassClassificationEvaluator\n",
        "\n",
        "acc_eval = MulticlassClassificationEvaluator()\n",
        "acc = acc_eval.evaluate(test_results)\n",
        "print(\"Accuracy of model at predicting reviews was: %f\" % acc)"
      ]
    }
  ],
  "metadata": {
    "colab": {
      "name": "new_naive_review_trending_days p4_us.ipynb",
      "provenance": [],
      "collapsed_sections": []
    },
    "kernel_info": {
      "name": "python3"
    },
    "kernelspec": {
      "display_name": "Python 3",
      "language": "python",
      "name": "python3"
    },
    "language_info": {
      "codemirror_mode": {
        "name": "ipython",
        "version": 3
      },
      "file_extension": ".py",
      "mimetype": "text/x-python",
      "name": "python",
      "nbconvert_exporter": "python",
      "pygments_lexer": "ipython3",
      "version": "3.7.4"
    },
    "latex_envs": {
      "LaTeX_envs_menu_present": true,
      "autoclose": false,
      "autocomplete": true,
      "bibliofile": "biblio.bib",
      "cite_by": "apalike",
      "current_citInitial": 1,
      "eqLabelWithNumbers": true,
      "eqNumInitial": 1,
      "hotkeys": {
        "equation": "Ctrl-E",
        "itemize": "Ctrl-I"
      },
      "labels_anchors": false,
      "latex_user_defs": false,
      "report_style_numbering": false,
      "user_envs_cfg": false
    },
    "nteract": {
      "version": "0.11.2"
    },
    "varInspector": {
      "cols": {
        "lenName": 16,
        "lenType": 16,
        "lenVar": 40
      },
      "kernels_config": {
        "python": {
          "delete_cmd_postfix": "",
          "delete_cmd_prefix": "del ",
          "library": "var_list.py",
          "varRefreshCmd": "print(var_dic_list())"
        },
        "r": {
          "delete_cmd_postfix": ") ",
          "delete_cmd_prefix": "rm(",
          "library": "var_list.r",
          "varRefreshCmd": "cat(var_dic_list()) "
        }
      },
      "types_to_exclude": [
        "module",
        "function",
        "builtin_function_or_method",
        "instance",
        "_Feature"
      ],
      "window_display": false
    }
  },
  "nbformat": 4,
  "nbformat_minor": 0
}