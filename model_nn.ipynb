{
  "cells": [
    {
      "cell_type": "code",
      "execution_count": 61,
      "id": "cb978d3b",
      "metadata": {
        "id": "cb978d3b"
      },
      "outputs": [],
      "source": [
        "# dependencies\n",
        "\n",
        "import warnings\n",
        "warnings.filterwarnings('ignore')\n",
        "\n",
        "import numpy as np\n",
        "import pandas as pd\n",
        "import matplotlib.pyplot as plt\n",
        "\n",
        "from sqlalchemy import create_engine\n",
        "\n",
        "import datetime\n",
        "\n",
        "# postgres pull\n",
        "\n",
        "db_password = \"postgres\"\n",
        "db_user = \"postgres\"\n",
        "db_name = \"Youtube P3\"\n",
        "endpoint = 'youtube.cb1bticre0py.us-east-1.rds.amazonaws.com'\n",
        "\n",
        "connection_string = f\"postgresql://{db_user}:{db_password}@{endpoint}:5432/{db_name}\"\n",
        "engine = create_engine(connection_string)\n",
        "\n",
        "final_model = pd.read_sql('SELECT * FROM final_model;', con = engine)\n"
      ]
    },
    {
      "cell_type": "code",
      "execution_count": 62,
      "id": "A8AOO6m5ryXC",
      "metadata": {
        "colab": {
          "base_uri": "https://localhost:8080/",
          "height": 334
        },
        "id": "A8AOO6m5ryXC",
        "outputId": "6fd5cf63-832f-4f44-9354-cddbedca3d24"
      },
      "outputs": [
        {
          "data": {
            "text/html": [
              "<div>\n",
              "<style scoped>\n",
              "    .dataframe tbody tr th:only-of-type {\n",
              "        vertical-align: middle;\n",
              "    }\n",
              "\n",
              "    .dataframe tbody tr th {\n",
              "        vertical-align: top;\n",
              "    }\n",
              "\n",
              "    .dataframe thead th {\n",
              "        text-align: right;\n",
              "    }\n",
              "</style>\n",
              "<table border=\"1\" class=\"dataframe\">\n",
              "  <thead>\n",
              "    <tr style=\"text-align: right;\">\n",
              "      <th></th>\n",
              "      <th>index</th>\n",
              "      <th>category_e</th>\n",
              "      <th>publish_day_num</th>\n",
              "      <th>publish_to_trend</th>\n",
              "      <th>pt_views</th>\n",
              "      <th>pt_likes</th>\n",
              "      <th>pt_dislikes</th>\n",
              "      <th>pt_comments</th>\n",
              "      <th>target</th>\n",
              "    </tr>\n",
              "  </thead>\n",
              "  <tbody>\n",
              "    <tr>\n",
              "      <th>0</th>\n",
              "      <td>0</td>\n",
              "      <td>3.0</td>\n",
              "      <td>2</td>\n",
              "      <td>3.0</td>\n",
              "      <td>5173063.0</td>\n",
              "      <td>1052986.0</td>\n",
              "      <td>29927.0</td>\n",
              "      <td>63557.0</td>\n",
              "      <td>0</td>\n",
              "    </tr>\n",
              "    <tr>\n",
              "      <th>1</th>\n",
              "      <td>1</td>\n",
              "      <td>8.0</td>\n",
              "      <td>0</td>\n",
              "      <td>2.0</td>\n",
              "      <td>267945.0</td>\n",
              "      <td>3040.0</td>\n",
              "      <td>394.0</td>\n",
              "      <td>1226.0</td>\n",
              "      <td>0</td>\n",
              "    </tr>\n",
              "    <tr>\n",
              "      <th>2</th>\n",
              "      <td>2</td>\n",
              "      <td>12.0</td>\n",
              "      <td>1</td>\n",
              "      <td>1.0</td>\n",
              "      <td>81049.0</td>\n",
              "      <td>5684.0</td>\n",
              "      <td>207.0</td>\n",
              "      <td>422.0</td>\n",
              "      <td>0</td>\n",
              "    </tr>\n",
              "    <tr>\n",
              "      <th>3</th>\n",
              "      <td>3</td>\n",
              "      <td>5.0</td>\n",
              "      <td>0</td>\n",
              "      <td>2.0</td>\n",
              "      <td>872005.0</td>\n",
              "      <td>52371.0</td>\n",
              "      <td>491.0</td>\n",
              "      <td>5043.0</td>\n",
              "      <td>0</td>\n",
              "    </tr>\n",
              "    <tr>\n",
              "      <th>4</th>\n",
              "      <td>4</td>\n",
              "      <td>7.0</td>\n",
              "      <td>1</td>\n",
              "      <td>6.0</td>\n",
              "      <td>573902.0</td>\n",
              "      <td>69319.0</td>\n",
              "      <td>970.0</td>\n",
              "      <td>3311.0</td>\n",
              "      <td>1</td>\n",
              "    </tr>\n",
              "  </tbody>\n",
              "</table>\n",
              "</div>"
            ],
            "text/plain": [
              "   index  category_e  publish_day_num  publish_to_trend   pt_views   pt_likes  \\\n",
              "0      0         3.0                2               3.0  5173063.0  1052986.0   \n",
              "1      1         8.0                0               2.0   267945.0     3040.0   \n",
              "2      2        12.0                1               1.0    81049.0     5684.0   \n",
              "3      3         5.0                0               2.0   872005.0    52371.0   \n",
              "4      4         7.0                1               6.0   573902.0    69319.0   \n",
              "\n",
              "   pt_dislikes  pt_comments  target  \n",
              "0      29927.0      63557.0       0  \n",
              "1        394.0       1226.0       0  \n",
              "2        207.0        422.0       0  \n",
              "3        491.0       5043.0       0  \n",
              "4        970.0       3311.0       1  "
            ]
          },
          "execution_count": 62,
          "metadata": {},
          "output_type": "execute_result"
        }
      ],
      "source": [
        "final_model.head()\n"
      ]
    },
    {
      "cell_type": "code",
      "execution_count": 63,
      "id": "25d22717",
      "metadata": {
        "id": "25d22717"
      },
      "outputs": [],
      "source": [
        "#slimmer_unique=pd.read_csv('https://elasticbeanstalk-us-west-1-140033263198.s3.us-west-1.amazonaws.com/cleaned.csv')  "
      ]
    },
    {
      "cell_type": "code",
      "execution_count": 64,
      "id": "effb596b",
      "metadata": {},
      "outputs": [],
      "source": [
        "from sklearn.model_selection import train_test_split\n",
        "import sklearn as skl"
      ]
    },
    {
      "cell_type": "code",
      "execution_count": 65,
      "id": "sB1JhjpK24AS",
      "metadata": {
        "colab": {
          "base_uri": "https://localhost:8080/",
          "height": 206
        },
        "id": "sB1JhjpK24AS",
        "outputId": "87910890-9d33-47d0-ebb3-026433998617"
      },
      "outputs": [],
      "source": [
        "y = final_model['target'].to_numpy()\n",
        "X = final_model[['category_e','publish_to_trend','publish_day_num','pt_views','pt_likes',\n",
        "                        'pt_dislikes','pt_comments']]\n",
        "X_train, X_test, y_train, y_test = train_test_split(X, y, random_state=1)\n",
        "\n",
        "# Create scaler instance\n",
        "X_scaler = skl.preprocessing.StandardScaler()\n",
        "X_scaler.fit(X_train)\n",
        "X_train_scaled = X_scaler.transform(X_train)\n",
        "X_test_scaled = X_scaler.transform(X_test)\n",
        "\n"
      ]
    },
    {
      "cell_type": "code",
      "execution_count": 79,
      "id": "F1MkAErvRUp5",
      "metadata": {
        "id": "F1MkAErvRUp5"
      },
      "outputs": [
        {
          "data": {
            "text/plain": [
              "StandardScaler()"
            ]
          },
          "execution_count": 79,
          "metadata": {},
          "output_type": "execute_result"
        }
      ],
      "source": [
        "X_test\n",
        "\n",
        "X_scaler\n",
        "\n",
        "\n",
        "\n"
      ]
    },
    {
      "cell_type": "code",
      "execution_count": null,
      "id": "xxwYJSp0SDxq",
      "metadata": {
        "id": "xxwYJSp0SDxq"
      },
      "outputs": [],
      "source": []
    },
    {
      "cell_type": "code",
      "execution_count": 66,
      "id": "29b16185",
      "metadata": {
        "id": "29b16185"
      },
      "outputs": [],
      "source": [
        "import tensorflow as tf\n",
        "import numpy\n",
        "from sklearn.model_selection import GridSearchCV\n",
        "from keras.models import Sequential\n",
        "from keras.layers import Dense\n",
        "import keras\n",
        "from keras.wrappers.scikit_learn import KerasClassifier"
      ]
    },
    {
      "cell_type": "code",
      "execution_count": 67,
      "id": "74601fe4",
      "metadata": {
        "colab": {
          "base_uri": "https://localhost:8080/"
        },
        "id": "74601fe4",
        "outputId": "2efac1de-afa5-4b12-bd2b-be1c7a1e221c"
      },
      "outputs": [
        {
          "name": "stdout",
          "output_type": "stream",
          "text": [
            "Model: \"sequential_2\"\n",
            "_________________________________________________________________\n",
            " Layer (type)                Output Shape              Param #   \n",
            "=================================================================\n",
            " dense_6 (Dense)             (None, 10)                80        \n",
            "                                                                 \n",
            " dense_7 (Dense)             (None, 10)                110       \n",
            "                                                                 \n",
            " dense_8 (Dense)             (None, 1)                 11        \n",
            "                                                                 \n",
            "=================================================================\n",
            "Total params: 201\n",
            "Trainable params: 201\n",
            "Non-trainable params: 0\n",
            "_________________________________________________________________\n"
          ]
        }
      ],
      "source": [
        "#Create a Keras Sequential model and add more than one Dense hidden layer\n",
        "nn_model = tf.keras.models.Sequential()\n",
        "\n",
        "nn_model.add(tf.keras.layers.Dense(units=10, activation=\"relu\", input_dim=7))\n",
        "\n",
        "nn_model.add(tf.keras.layers.Dense(units=10, activation=\"relu\"))\n",
        "\n",
        "nn_model.add(tf.keras.layers.Dense(units=1, activation=\"sigmoid\"))\n",
        "\n",
        "# Check the structure of the Sequential model\n",
        "nn_model.summary()"
      ]
    },
    {
      "cell_type": "code",
      "execution_count": 68,
      "id": "49d73f9e",
      "metadata": {
        "colab": {
          "base_uri": "https://localhost:8080/"
        },
        "id": "49d73f9e",
        "outputId": "bed86236-63ca-48c7-af80-1df2d749119f"
      },
      "outputs": [
        {
          "name": "stdout",
          "output_type": "stream",
          "text": [
            "Epoch 1/5\n",
            "5652/5652 [==============================] - 9s 1ms/step - loss: 0.0514 - accuracy: 0.9369\n",
            "Epoch 2/5\n",
            "5652/5652 [==============================] - 8s 1ms/step - loss: 0.0456 - accuracy: 0.9424\n",
            "Epoch 3/5\n",
            "5652/5652 [==============================] - 8s 1ms/step - loss: 0.0454 - accuracy: 0.9424\n",
            "Epoch 4/5\n",
            "5652/5652 [==============================] - 8s 1ms/step - loss: 0.0453 - accuracy: 0.9424\n",
            "Epoch 5/5\n",
            "5652/5652 [==============================] - 9s 2ms/step - loss: 0.0451 - accuracy: 0.9425\n"
          ]
        }
      ],
      "source": [
        "# Compile the model and train over more than 100 epochs\n",
        "loss_fn = keras.losses.mean_squared_error\n",
        "nn_model.compile(loss=loss_fn, optimizer=\"adam\", metrics=[\"accuracy\"])\n",
        "#nn_model.compile(loss='binary_crossentropy', optimizer='adam', metrics=['accuracy'])\n",
        "fit_model = nn_model.fit(X_train_scaled, y_train, epochs=5)"
      ]
    },
    {
      "cell_type": "code",
      "execution_count": 69,
      "id": "ABbYVf_9bodX",
      "metadata": {
        "colab": {
          "base_uri": "https://localhost:8080/"
        },
        "id": "ABbYVf_9bodX",
        "outputId": "cb278903-342e-437a-c934-1484745bff74"
      },
      "outputs": [
        {
          "name": "stdout",
          "output_type": "stream",
          "text": [
            "Model: \"sequential_2\"\n",
            "_________________________________________________________________\n",
            " Layer (type)                Output Shape              Param #   \n",
            "=================================================================\n",
            " dense_6 (Dense)             (None, 10)                80        \n",
            "                                                                 \n",
            " dense_7 (Dense)             (None, 10)                110       \n",
            "                                                                 \n",
            " dense_8 (Dense)             (None, 1)                 11        \n",
            "                                                                 \n",
            "=================================================================\n",
            "Total params: 201\n",
            "Trainable params: 201\n",
            "Non-trainable params: 0\n",
            "_________________________________________________________________\n"
          ]
        }
      ],
      "source": [
        "nn_model.summary()"
      ]
    },
    {
      "cell_type": "code",
      "execution_count": 81,
      "id": "6c8d7c87",
      "metadata": {
        "colab": {
          "base_uri": "https://localhost:8080/"
        },
        "id": "6c8d7c87",
        "outputId": "5fb480f0-5545-4f7a-b118-104e5a9fff09"
      },
      "outputs": [
        {
          "name": "stdout",
          "output_type": "stream",
          "text": [
            "1884/1884 - 3s - loss: 0.0445 - accuracy: 0.9435 - 3s/epoch - 2ms/step\n",
            "Loss: 0.04451049864292145, Accuracy: 0.9435117244720459\n"
          ]
        }
      ],
      "source": [
        "# Evaluate the performance of model using the loss and predictive accuracy of the model on the test dataset.\n",
        "model_loss, model_accuracy = nn_model.evaluate(X_test_scaled,y_test,verbose=2)\n",
        "print(f\"Loss: {model_loss}, Accuracy: {model_accuracy}\")"
      ]
    },
    {
      "cell_type": "code",
      "execution_count": 71,
      "id": "T_NubmLrzPhd",
      "metadata": {
        "id": "T_NubmLrzPhd"
      },
      "outputs": [
        {
          "data": {
            "text/plain": [
              "array([[-8.55082750e-01,  1.30912364e-01, -4.88367740e-01, ...,\n",
              "        -2.92002204e-01,  7.92172148e-02, -6.04077476e-02],\n",
              "       [ 9.90856882e-01,  1.30912364e-01,  1.52667988e+00, ...,\n",
              "         6.57966178e-03, -6.15537674e-02,  2.69573393e-02],\n",
              "       [-6.39657650e-02, -1.97857550e-01,  1.52667988e+00, ...,\n",
              "        -3.16950628e-01, -7.37817552e-02, -1.42011885e-01],\n",
              "       ...,\n",
              "       [ 1.78197387e+00,  1.30912364e-01, -1.49589155e+00, ...,\n",
              "        -2.70386897e-01, -2.84487271e-02, -1.45588999e-03],\n",
              "       [ 2.04567953e+00,  1.30912364e-01,  1.02291797e+00, ...,\n",
              "        -2.15985347e-01, -5.64836261e-02, -1.25568008e-01],\n",
              "       [ 9.90856882e-01,  2.76107168e+00, -4.88367740e-01, ...,\n",
              "        -3.00775476e-01, -4.59456853e-02, -1.20590099e-01]])"
            ]
          },
          "execution_count": 71,
          "metadata": {},
          "output_type": "execute_result"
        }
      ],
      "source": [
        "# from sklearn.metrics import classification_report, confusion_matrix, accuracy_score\n",
        "\n",
        "# print(confusion_matrix(y_test,y_pred))\n",
        "X_test_scaled"
      ]
    },
    {
      "cell_type": "code",
      "execution_count": 72,
      "id": "e26f6a7f",
      "metadata": {
        "colab": {
          "base_uri": "https://localhost:8080/"
        },
        "id": "e26f6a7f",
        "outputId": "b0b90247-368f-4366-af74-d14db5756098"
      },
      "outputs": [],
      "source": [
        "# # save the model\n",
        "from pickle import dump, load\n",
        "import joblib\n",
        "from sklearn.metrics import accuracy_score\n",
        "# dump(nn_model, open('./models/model.pkl', 'wb'))\n",
        "\n",
        "# Use H5 format since Pkl format was giving issues\n",
        "nn_model.save('model_nn.h5')\n",
        "#Used Pkl for model columns\n",
        "model_columns = list(X_test.columns)\n",
        "dump(model_columns, open('model_columns_nn.pkl', 'wb'))\n",
        "\n",
        "# save the scaler using pickle format \n",
        "dump(X_scaler, open('scaler_nn.pkl', 'wb'))\n",
        "\n"
      ]
    },
    {
      "cell_type": "code",
      "execution_count": 73,
      "id": "0baedc2a",
      "metadata": {},
      "outputs": [
        {
          "data": {
            "text/plain": [
              "['category_e',\n",
              " 'publish_to_trend',\n",
              " 'publish_day_num',\n",
              " 'pt_views',\n",
              " 'pt_likes',\n",
              " 'pt_dislikes',\n",
              " 'pt_comments']"
            ]
          },
          "execution_count": 73,
          "metadata": {},
          "output_type": "execute_result"
        }
      ],
      "source": [
        "model_columns\n",
        "\n"
      ]
    },
    {
      "cell_type": "code",
      "execution_count": 74,
      "id": "b20c9ef1",
      "metadata": {},
      "outputs": [],
      "source": [
        "#load the h5 model \n",
        "reconstructed_model=keras.models.load_model('model_nn.h5')\n",
        "\n",
        "# load the scaler uing pickle format.\n",
        "scaler = joblib.load('./scaler_nn.pkl')\n",
        "#load the columns usinf pickle format\n",
        "columns = joblib.load ('./model_columns_nn.pkl')\n",
        "\n"
      ]
    },
    {
      "cell_type": "code",
      "execution_count": 75,
      "id": "bV1G5LkYy8r-",
      "metadata": {
        "colab": {
          "base_uri": "https://localhost:8080/"
        },
        "id": "bV1G5LkYy8r-",
        "outputId": "891df667-b171-4520-8baa-3c4602051173"
      },
      "outputs": [],
      "source": [
        "#Uncomment if we are only inputting single row of data to the model\n",
        "# index=1000"
      ]
    },
    {
      "cell_type": "code",
      "execution_count": 76,
      "id": "TJsyLT2VTyIA",
      "metadata": {
        "colab": {
          "base_uri": "https://localhost:8080/"
        },
        "id": "TJsyLT2VTyIA",
        "outputId": "00a77a7c-9a19-48ee-8232-82a64ed4a7ce"
      },
      "outputs": [
        {
          "data": {
            "text/plain": [
              "60278"
            ]
          },
          "execution_count": 76,
          "metadata": {},
          "output_type": "execute_result"
        }
      ],
      "source": [
        "#Uncomment the bottom 3 lines and comment the lines 4 and 5 if we habe single input row to the model\n",
        "\n",
        "# test_input=X_test.iloc[index,:].values.tolist()\n",
        "# test_input=[[0,6, 6, 47, 54, 3, 5, 7, 0.5]]\n",
        "# test_target=y_test[index]\n",
        "test_input=X_test\n",
        "test_target=y_test\n",
        "len(test_input)\n",
        "\n"
      ]
    },
    {
      "cell_type": "code",
      "execution_count": 77,
      "id": "lXroRnDgT3x7",
      "metadata": {
        "colab": {
          "base_uri": "https://localhost:8080/"
        },
        "id": "lXroRnDgT3x7",
        "outputId": "2809d504-b623-4dc6-f85d-e8f1a2bcac67"
      },
      "outputs": [
        {
          "name": "stdout",
          "output_type": "stream",
          "text": [
            "1884/1884 [==============================] - 3s 1ms/step\n",
            "[[0.8053878 ]\n",
            " [0.8736482 ]\n",
            " [0.09864715]\n",
            " ...\n",
            " [0.7774712 ]\n",
            " [0.7755364 ]\n",
            " [0.9998369 ]]\n",
            "[[1.]\n",
            " [1.]\n",
            " [0.]\n",
            " ...\n",
            " [1.]\n",
            " [1.]\n",
            " [1.]]\n",
            "[1 1 0 ... 1 1 1]\n",
            "Test Accuracy: 0.9435117289890176\n"
          ]
        }
      ],
      "source": [
        "#Uncomment the line below and comment the 2nd  line below if we have just one row as input\n",
        "# test_input_df = pd.DataFrame ([test_input], columns = columns)\n",
        "test_input_df=test_input\n",
        "\n",
        "\n",
        "test_input_scaled = scaler.transform(test_input_df)\n",
        "\n",
        "# reconstructed_model.compile(loss='mean_squared_error', optimizer='adam', metrics=['accuracy'])\n",
        "# score = reconstructed_model.evaluate(test_input, test_target, verbose=0)\n",
        "# print(\"%s: %.2f%%\" % (reconstructed_model.metrics_names[1], score[1]*100))\n",
        "\n",
        "# The reconstructed model is already compiled and has retained the optimizer\n",
        "# state, so training can resume:\n",
        "# reconstructed_model.fit(test_input_scaled, test_target)\n",
        "# score = reconstructed_model.evaluate(test_input_scaled, test_target, verbose=0)\n",
        "# print(\"%s: %.2f%%\" % (reconstructed_model.metrics_names[1], score[1]*100))\n",
        "\n",
        "test_target_hat = reconstructed_model.predict(test_input_scaled)\n",
        "# evaluate accuracy\n",
        "\n",
        "\n",
        "\n",
        "print(test_target_hat)\n",
        "\n",
        "len(test_target_hat)\n",
        "test_target_hat[test_target_hat > 0.5] = 1\n",
        "test_target_hat[test_target_hat <= 0.5] = 0\n",
        "\n",
        "\n",
        "print(test_target_hat)\n",
        "print(test_target)\n",
        "\n",
        "acc = accuracy_score(test_target, test_target_hat)\n",
        "print('Test Accuracy:', acc)"
      ]
    },
    {
      "cell_type": "code",
      "execution_count": null,
      "id": "59c1876f",
      "metadata": {
        "id": "59c1876f"
      },
      "outputs": [],
      "source": []
    },
    {
      "cell_type": "code",
      "execution_count": null,
      "id": "7f723520",
      "metadata": {
        "id": "7f723520"
      },
      "outputs": [],
      "source": []
    },
    {
      "cell_type": "code",
      "execution_count": null,
      "id": "98060b00",
      "metadata": {
        "id": "98060b00"
      },
      "outputs": [],
      "source": []
    },
    {
      "cell_type": "code",
      "execution_count": null,
      "id": "8df21f27",
      "metadata": {
        "id": "8df21f27"
      },
      "outputs": [],
      "source": []
    },
    {
      "cell_type": "code",
      "execution_count": null,
      "id": "88b767b2",
      "metadata": {
        "id": "88b767b2"
      },
      "outputs": [],
      "source": []
    },
    {
      "cell_type": "code",
      "execution_count": null,
      "id": "6c5370b9",
      "metadata": {
        "id": "6c5370b9"
      },
      "outputs": [],
      "source": []
    }
  ],
  "metadata": {
    "colab": {
      "name": "model_nn.ipynb",
      "provenance": []
    },
    "interpreter": {
      "hash": "0db0461b1f82769b8d6e0e32559349044198284e4a15daab25f6d850bd000b5a"
    },
    "kernelspec": {
      "display_name": "Python 3.8.8 ('base')",
      "language": "python",
      "name": "python3"
    },
    "language_info": {
      "codemirror_mode": {
        "name": "ipython",
        "version": 3
      },
      "file_extension": ".py",
      "mimetype": "text/x-python",
      "name": "python",
      "nbconvert_exporter": "python",
      "pygments_lexer": "ipython3",
      "version": "3.8.8"
    }
  },
  "nbformat": 4,
  "nbformat_minor": 5
}
