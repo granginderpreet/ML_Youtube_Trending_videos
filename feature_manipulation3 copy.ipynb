{
 "cells": [
  {
   "cell_type": "code",
   "execution_count": 2,
   "id": "cb978d3b",
   "metadata": {},
   "outputs": [],
   "source": [
    "# dependencies\n",
    "\n",
    "import warnings\n",
    "warnings.filterwarnings('ignore')\n",
    "\n",
    "import numpy as np\n",
    "import pandas as pd\n",
    "import matplotlib.pyplot as plt\n",
    "\n",
    "from sqlalchemy import create_engine\n",
    "\n",
    "import datetime\n",
    "\n",
    "# postgres pull\n",
    "\n",
    "db_password = \"postgres\"\n",
    "db_user = \"postgres\"\n",
    "db_name = \"Youtube P3\"\n",
    "endpoint = 'youtube.cb1bticre0py.us-east-1.rds.amazonaws.com'\n",
    "\n",
    "connection_string = f\"postgresql://{db_user}:{db_password}@{endpoint}:5432/{db_name}\"\n",
    "engine = create_engine(connection_string)\n",
    "\n",
    "og_data = pd.read_sql('SELECT * FROM all_data;', con = engine)"
   ]
  },
  {
   "cell_type": "code",
   "execution_count": 3,
   "id": "a042e1a2",
   "metadata": {},
   "outputs": [],
   "source": [
    "\n",
    "slimmer_unique=pd.read_csv('cleaned.csv')  \n",
    "\n"
   ]
  },
  {
   "cell_type": "code",
   "execution_count": 4,
   "id": "3f741e1f",
   "metadata": {},
   "outputs": [
    {
     "name": "stdout",
     "output_type": "stream",
     "text": [
      "(241112, 8)\n",
      "(241112,)\n"
     ]
    }
   ],
   "source": [
    "# X = slim_unique.drop(columns = 'target').values\n",
    "\n",
    "# y = slim_unique['target'].values\n",
    "X = slimmer_unique.filter(['category','publish_to_trend','likes_ratio','comments_ratio',\"views\",\"likes\",\"dislikes\", \"comments\"], axis=1)\n",
    "# X = slimmer_unique.drop(columns = ['target', 'trend_days']).values\n",
    "\n",
    "\n",
    "y = slimmer_unique['trend_days'].values\n",
    "\n",
    "print(X.shape)\n",
    "print(y.shape)\n",
    "\n"
   ]
  },
  {
   "cell_type": "code",
   "execution_count": 5,
   "id": "b2f87df9",
   "metadata": {},
   "outputs": [
    {
     "data": {
      "text/plain": [
       "array([4., 1., 1., ..., 1., 1., 1.])"
      ]
     },
     "execution_count": 5,
     "metadata": {},
     "output_type": "execute_result"
    }
   ],
   "source": [
    "y"
   ]
  },
  {
   "cell_type": "code",
   "execution_count": 6,
   "id": "ab83719f",
   "metadata": {},
   "outputs": [],
   "source": [
    "from sklearn.linear_model import LinearRegression, Ridge, Lasso, ElasticNet\n",
    "from sklearn.model_selection import train_test_split\n",
    "import sklearn as skl\n",
    "\n",
    "X_train, X_test, y_train, y_test = train_test_split(X, y, random_state=42)\n",
    "\n",
    "# Create scaler instance\n",
    "# X_scaler = skl.preprocessing.StandardScaler()\n"
   ]
  },
  {
   "cell_type": "code",
   "execution_count": 25,
   "id": "97cd9e5c",
   "metadata": {},
   "outputs": [],
   "source": [
    "\n",
    "# Fit the scaler\n",
    "# X_scaler.fit(X_train)\n"
   ]
  },
  {
   "cell_type": "code",
   "execution_count": 26,
   "id": "396b0dcd",
   "metadata": {},
   "outputs": [],
   "source": [
    "\n",
    "# Scale the data\n",
    "# X_train_scaled = X_scaler.transform(X_train)\n",
    "# X_test_scaled = X_scaler.transform(X_test)\n",
    "\n",
    "\n"
   ]
  },
  {
   "cell_type": "code",
   "execution_count": 7,
   "id": "29b16185",
   "metadata": {},
   "outputs": [],
   "source": [
    "import tensorflow as tf"
   ]
  },
  {
   "cell_type": "code",
   "execution_count": 28,
   "id": "74601fe4",
   "metadata": {},
   "outputs": [],
   "source": [
    "# Create a Keras Sequential model and add more than one Dense hidden layer\n",
    "# nn_model = tf.keras.models.Sequential()\n",
    "\n",
    "# nn_model.add(tf.keras.layers.Dense(units=10, activation=\"relu\", input_dim=8))\n",
    "\n",
    "# nn_model.add(tf.keras.layers.Dense(units=10, activation=\"relu\"))\n",
    "\n",
    "# nn_model.add(tf.keras.layers.Dense(units=1, activation=\"sigmoid\"))\n",
    "\n",
    "# # Check the structure of the Sequential model\n",
    "# nn_model.summary()"
   ]
  },
  {
   "cell_type": "code",
   "execution_count": 29,
   "id": "82428cf0",
   "metadata": {},
   "outputs": [],
   "source": [
    "## Create a method that creates a new Sequential model with hyperparameter options\n",
    "# def create_model(hp):\n",
    "#     nn_model = tf.keras.models.Sequential()\n",
    "\n",
    "#     # Allow kerastuner to decide which activation function to use in hidden layers\n",
    "#     activation = hp.Choice('activation',['relu','tanh','sigmoid'])\n",
    "    \n",
    "#     # Allow kerastuner to decide number of neurons in first layer\n",
    "#     nn_model.add(tf.keras.layers.Dense(units=hp.Int('first_units',\n",
    "#         min_value=1,\n",
    "#         max_value=4,\n",
    "#         step=2), activation=activation, input_dim=3))\n",
    "\n",
    "#     # Allow kerastuner to decide number of hidden layers and neurons in hidden layers\n",
    "#     for i in range(hp.Int('num_layers', 1, 4)):\n",
    "#         nn_model.add(tf.keras.layers.Dense(units=hp.Int('units_' + str(i),\n",
    "#             min_value=1,\n",
    "#             max_value=4,\n",
    "#             step=2),\n",
    "#             activation=activation))\n",
    "    \n",
    "#     nn_model.add(tf.keras.layers.Dense(units=1, activation=\"sigmoid\"))\n",
    "\n",
    "#     # Compile the model\n",
    "#     nn_model.compile(loss=\"binary_crossentropy\", optimizer='adam', metrics=[\"accuracy\"])\n",
    "    \n",
    "#     return nn_model"
   ]
  },
  {
   "cell_type": "code",
   "execution_count": 30,
   "id": "c489de55",
   "metadata": {},
   "outputs": [],
   "source": [
    "# # Import the kerastuner library\n",
    "# import keras_tuner as kt\n",
    "\n",
    "# tuner = kt.Hyperband(\n",
    "#     create_model,\n",
    "#     objective=\"val_accuracy\",\n",
    "#     max_epochs=20,\n",
    "#     hyperband_iterations=2)\n",
    "# # Run the kerastuner search for best hyperparameters\n",
    "# tuner.search(X_train,y_train,epochs=20,validation_data=(X_test,y_test))\n",
    "# # Get best model hyperparameters\n",
    "# best_hyper = tuner.get_best_hyperparameters(1)[0]\n",
    "# best_hyper.values\n",
    "# # Evaluate best model against full test data\n",
    "# best_model = tuner.get_best_models(1)[0]\n",
    "# model_loss, model_accuracy = best_model.evaluate(X_test_scaled,y_test,verbose=2)\n",
    "# print(f\"Loss: {model_loss}, Accuracy: {model_accuracy}\")"
   ]
  },
  {
   "cell_type": "code",
   "execution_count": 8,
   "id": "628e54e8",
   "metadata": {},
   "outputs": [],
   "source": [
    "import numpy\n",
    "from sklearn.model_selection import GridSearchCV\n",
    "from keras.models import Sequential\n",
    "from keras.layers import Dense\n",
    "from keras.wrappers.scikit_learn import KerasClassifier\n",
    "# Function to create model, required for KerasClassifier\n",
    "def create_model():\n",
    "\t# create model\n",
    "\tmodel = Sequential()\n",
    "\tmodel.add(Dense(12, input_dim=8, activation='relu'))\n",
    "\tmodel.add(Dense(1, activation='sigmoid'))\n",
    "\t# Compile model\n",
    "\tmodel.compile(loss='binary_crossentropy', optimizer='adam', metrics=['accuracy'])\n",
    "\treturn model\n",
    "# fix random seed for reproducibility\n",
    "seed = 7\n",
    "numpy.random.seed(seed)\n",
    "\n",
    "# create model\n",
    "model = KerasClassifier(build_fn=create_model, verbose=0)\n",
    "# define the grid search parameters\n",
    "batch_size = [10, 20, 40, 60, 80, 100]\n",
    "epochs = [10, 50, 100]\n",
    "param_grid = dict(batch_size=batch_size, epochs=epochs)\n",
    "grid = GridSearchCV(estimator=model, param_grid=param_grid, n_jobs=-1, cv=3)\n",
    "grid_result = grid.fit(X_train, y_train)\n",
    "# summarize results\n",
    "#need to update\n",
    "\n",
    "# print(\"Best: %f using %s\" % (grid_result.best_score_, grid_result.best_params_))\n",
    "# means = grid_result.cv_results_['mean_test_score']\n",
    "# stds = grid_result.cv_results_['std_test_score']\n",
    "# params = grid_result.cv_results_['params']\n",
    "# for mean, stdev, param in zip(means, stds, params):\n",
    "#     print(\"%f (%f) with: %r\" % (mean, stdev, param))"
   ]
  },
  {
   "cell_type": "code",
   "execution_count": null,
   "id": "9b30322a",
   "metadata": {},
   "outputs": [],
   "source": []
  },
  {
   "cell_type": "code",
   "execution_count": null,
   "id": "49d73f9e",
   "metadata": {},
   "outputs": [],
   "source": [
    "# Compile the model and train over more than 100 epochs\n",
    "# nn_model.compile(loss=\"binary_crossentropy\", optimizer=\"adam\", metrics=[\"accuracy\"])\n",
    "\n",
    "# fit_model = nn_model.fit(X_train, y_train, epochs=200)"
   ]
  },
  {
   "cell_type": "code",
   "execution_count": 33,
   "id": "3d1f9fcf",
   "metadata": {},
   "outputs": [
    {
     "ename": "NameError",
     "evalue": "name 'u' is not defined",
     "output_type": "error",
     "traceback": [
      "\u001b[1;31m---------------------------------------------------------------------------\u001b[0m",
      "\u001b[1;31mNameError\u001b[0m                                 Traceback (most recent call last)",
      "\u001b[1;32m<ipython-input-33-496926d011e9>\u001b[0m in \u001b[0;36m<module>\u001b[1;34m\u001b[0m\n\u001b[0;32m     34\u001b[0m \u001b[1;32mimport\u001b[0m \u001b[0mkeras_tuner\u001b[0m\u001b[1;33m\u001b[0m\u001b[1;33m\u001b[0m\u001b[0m\n\u001b[0;32m     35\u001b[0m     \u001b[1;31m# tuner initialization\u001b[0m\u001b[1;33m\u001b[0m\u001b[1;33m\u001b[0m\u001b[1;33m\u001b[0m\u001b[0m\n\u001b[1;32m---> 36\u001b[1;33m tuner = keras_tuner.Hyperband(hypermodel = model_builder,\n\u001b[0m\u001b[0;32m     37\u001b[0m                      \u001b[0mobjective\u001b[0m \u001b[1;33m=\u001b[0m \u001b[0mkeras_tuner\u001b[0m\u001b[1;33m.\u001b[0m\u001b[0mObjective\u001b[0m\u001b[1;33m(\u001b[0m\u001b[1;34m\"val_f1\"\u001b[0m\u001b[1;33m,\u001b[0m \u001b[0mdirection\u001b[0m\u001b[1;33m=\u001b[0m\u001b[1;34m\"max\"\u001b[0m\u001b[1;33m)\u001b[0m\u001b[1;33m,\u001b[0m\u001b[1;33m\u001b[0m\u001b[1;33m\u001b[0m\u001b[0m\n\u001b[0;32m     38\u001b[0m                      \u001b[0mmax_epochs\u001b[0m \u001b[1;33m=\u001b[0m \u001b[1;36m20\u001b[0m\u001b[1;33m,\u001b[0m\u001b[1;33m\u001b[0m\u001b[1;33m\u001b[0m\u001b[0m\n",
      "\u001b[1;32mc:\\Users\\igrang\\anaconda3\\lib\\site-packages\\keras_tuner\\tuners\\hyperband.py\u001b[0m in \u001b[0;36m__init__\u001b[1;34m(self, hypermodel, objective, max_epochs, factor, hyperband_iterations, seed, hyperparameters, tune_new_entries, allow_new_entries, **kwargs)\u001b[0m\n\u001b[0;32m    373\u001b[0m             \u001b[0mallow_new_entries\u001b[0m\u001b[1;33m=\u001b[0m\u001b[0mallow_new_entries\u001b[0m\u001b[1;33m,\u001b[0m\u001b[1;33m\u001b[0m\u001b[1;33m\u001b[0m\u001b[0m\n\u001b[0;32m    374\u001b[0m         )\n\u001b[1;32m--> 375\u001b[1;33m         super(Hyperband, self).__init__(\n\u001b[0m\u001b[0;32m    376\u001b[0m             \u001b[0moracle\u001b[0m\u001b[1;33m=\u001b[0m\u001b[0moracle\u001b[0m\u001b[1;33m,\u001b[0m \u001b[0mhypermodel\u001b[0m\u001b[1;33m=\u001b[0m\u001b[0mhypermodel\u001b[0m\u001b[1;33m,\u001b[0m \u001b[1;33m**\u001b[0m\u001b[0mkwargs\u001b[0m\u001b[1;33m\u001b[0m\u001b[1;33m\u001b[0m\u001b[0m\n\u001b[0;32m    377\u001b[0m         )\n",
      "\u001b[1;32mc:\\Users\\igrang\\anaconda3\\lib\\site-packages\\keras_tuner\\engine\\tuner.py\u001b[0m in \u001b[0;36m__init__\u001b[1;34m(self, oracle, hypermodel, max_model_size, optimizer, loss, metrics, distribution_strategy, directory, project_name, logger, tuner_id, overwrite, executions_per_trial)\u001b[0m\n\u001b[0;32m    108\u001b[0m             )\n\u001b[0;32m    109\u001b[0m \u001b[1;33m\u001b[0m\u001b[0m\n\u001b[1;32m--> 110\u001b[1;33m         super(Tuner, self).__init__(\n\u001b[0m\u001b[0;32m    111\u001b[0m             \u001b[0moracle\u001b[0m\u001b[1;33m=\u001b[0m\u001b[0moracle\u001b[0m\u001b[1;33m,\u001b[0m\u001b[1;33m\u001b[0m\u001b[1;33m\u001b[0m\u001b[0m\n\u001b[0;32m    112\u001b[0m             \u001b[0mhypermodel\u001b[0m\u001b[1;33m=\u001b[0m\u001b[0mhypermodel\u001b[0m\u001b[1;33m,\u001b[0m\u001b[1;33m\u001b[0m\u001b[1;33m\u001b[0m\u001b[0m\n",
      "\u001b[1;32mc:\\Users\\igrang\\anaconda3\\lib\\site-packages\\keras_tuner\\engine\\base_tuner.py\u001b[0m in \u001b[0;36m__init__\u001b[1;34m(self, oracle, hypermodel, directory, project_name, logger, overwrite)\u001b[0m\n\u001b[0;32m    101\u001b[0m         \u001b[0mself\u001b[0m\u001b[1;33m.\u001b[0m\u001b[0m_display\u001b[0m \u001b[1;33m=\u001b[0m \u001b[0mtuner_utils\u001b[0m\u001b[1;33m.\u001b[0m\u001b[0mDisplay\u001b[0m\u001b[1;33m(\u001b[0m\u001b[0moracle\u001b[0m\u001b[1;33m=\u001b[0m\u001b[0mself\u001b[0m\u001b[1;33m.\u001b[0m\u001b[0moracle\u001b[0m\u001b[1;33m)\u001b[0m\u001b[1;33m\u001b[0m\u001b[1;33m\u001b[0m\u001b[0m\n\u001b[0;32m    102\u001b[0m \u001b[1;33m\u001b[0m\u001b[0m\n\u001b[1;32m--> 103\u001b[1;33m         \u001b[0mself\u001b[0m\u001b[1;33m.\u001b[0m\u001b[0m_populate_initial_space\u001b[0m\u001b[1;33m(\u001b[0m\u001b[1;33m)\u001b[0m\u001b[1;33m\u001b[0m\u001b[1;33m\u001b[0m\u001b[0m\n\u001b[0m\u001b[0;32m    104\u001b[0m \u001b[1;33m\u001b[0m\u001b[0m\n\u001b[0;32m    105\u001b[0m         \u001b[1;32mif\u001b[0m \u001b[1;32mnot\u001b[0m \u001b[0moverwrite\u001b[0m \u001b[1;32mand\u001b[0m \u001b[0mtf\u001b[0m\u001b[1;33m.\u001b[0m\u001b[0mio\u001b[0m\u001b[1;33m.\u001b[0m\u001b[0mgfile\u001b[0m\u001b[1;33m.\u001b[0m\u001b[0mexists\u001b[0m\u001b[1;33m(\u001b[0m\u001b[0mself\u001b[0m\u001b[1;33m.\u001b[0m\u001b[0m_get_tuner_fname\u001b[0m\u001b[1;33m(\u001b[0m\u001b[1;33m)\u001b[0m\u001b[1;33m)\u001b[0m\u001b[1;33m:\u001b[0m\u001b[1;33m\u001b[0m\u001b[1;33m\u001b[0m\u001b[0m\n",
      "\u001b[1;32mc:\\Users\\igrang\\anaconda3\\lib\\site-packages\\keras_tuner\\engine\\base_tuner.py\u001b[0m in \u001b[0;36m_populate_initial_space\u001b[1;34m(self)\u001b[0m\n\u001b[0;32m    130\u001b[0m \u001b[1;33m\u001b[0m\u001b[0m\n\u001b[0;32m    131\u001b[0m         \u001b[1;32mwhile\u001b[0m \u001b[1;32mTrue\u001b[0m\u001b[1;33m:\u001b[0m\u001b[1;33m\u001b[0m\u001b[1;33m\u001b[0m\u001b[0m\n\u001b[1;32m--> 132\u001b[1;33m             \u001b[0mself\u001b[0m\u001b[1;33m.\u001b[0m\u001b[0mhypermodel\u001b[0m\u001b[1;33m.\u001b[0m\u001b[0mbuild\u001b[0m\u001b[1;33m(\u001b[0m\u001b[0mhp\u001b[0m\u001b[1;33m)\u001b[0m\u001b[1;33m\u001b[0m\u001b[1;33m\u001b[0m\u001b[0m\n\u001b[0m\u001b[0;32m    133\u001b[0m \u001b[1;33m\u001b[0m\u001b[0m\n\u001b[0;32m    134\u001b[0m             \u001b[1;31m# Update the recored scopes.\u001b[0m\u001b[1;33m\u001b[0m\u001b[1;33m\u001b[0m\u001b[1;33m\u001b[0m\u001b[0m\n",
      "\u001b[1;32m<ipython-input-33-496926d011e9>\u001b[0m in \u001b[0;36mmodel_builder\u001b[1;34m(hp)\u001b[0m\n\u001b[0;32m     18\u001b[0m \u001b[1;33m\u001b[0m\u001b[0m\n\u001b[0;32m     19\u001b[0m     \u001b[1;31m# building a model\u001b[0m\u001b[1;33m\u001b[0m\u001b[1;33m\u001b[0m\u001b[1;33m\u001b[0m\u001b[0m\n\u001b[1;32m---> 20\u001b[1;33m     model = u(input_size = input_size,\n\u001b[0m\u001b[0;32m     21\u001b[0m               \u001b[0mstart_neurons\u001b[0m \u001b[1;33m=\u001b[0m \u001b[0mstart_neurons\u001b[0m\u001b[1;33m,\u001b[0m\u001b[1;33m\u001b[0m\u001b[1;33m\u001b[0m\u001b[0m\n\u001b[0;32m     22\u001b[0m               \u001b[0mnet_depth\u001b[0m \u001b[1;33m=\u001b[0m \u001b[0mnet_depth\u001b[0m\u001b[1;33m,\u001b[0m\u001b[1;33m\u001b[0m\u001b[1;33m\u001b[0m\u001b[0m\n",
      "\u001b[1;31mNameError\u001b[0m: name 'u' is not defined"
     ]
    }
   ],
   "source": [
    "# building a model using a model builder function\n",
    "def model_builder(hp):\n",
    "    \"\"\"\n",
    "    Build model for hyperparameters tuning\n",
    "    \n",
    "    hp: HyperParameters class instance\n",
    "    \"\"\"\n",
    "    \n",
    "    # defining a set of hyperparametrs for tuning and a range of values for each\n",
    "    start_neurons = hp.Int(name = 'start_neurons', min_value = 16, max_value = 128, step = 16)\n",
    "    net_depth = hp.Int(name = 'net_depth', min_value = 2, max_value = 6)\n",
    "    dropout = hp.Boolean(name = 'dropout', default = False)\n",
    "    bn_after_act = hp.Boolean(name = 'bn_after_act', default = False)\n",
    "    activation = hp.Choice(name = 'activation', values = ['mish', 'elu', 'lrelu'], ordered = False)\n",
    "    \n",
    "    input_size = (544,544,3)\n",
    "    target_labels = [str(i) for i in range(21)]\n",
    "    \n",
    "    # building a model\n",
    "    model = unet(input_size = input_size,\n",
    "              start_neurons = start_neurons,\n",
    "              net_depth = net_depth,\n",
    "              output_classes = len(target_labels),\n",
    "              dropout = dropout,\n",
    "              bn_after_act = bn_after_act,\n",
    "              activation = activation)\n",
    "    \n",
    "    # model compilation\n",
    "    model.compile(optimizer = Adam(lr = 1e-3),\n",
    "                  loss = weighted_cross_entropy,\n",
    "                  metrics = [f1, precision, recall, iou])\n",
    "    \n",
    "    return model\n",
    "import keras_tuner\n",
    "    # tuner initialization\n",
    "tuner = keras_tuner.Hyperband(hypermodel = model_builder,\n",
    "                     objective = keras_tuner.Objective(\"val_f1\", direction=\"max\"),\n",
    "                     max_epochs = 20,\n",
    "\t\t\t\t\t project_name='hyperband_tuner')\n",
    "\n",
    "tuner.search(training_data=train_dg,\n",
    "             steps_per_epoch=batches_per_epoch,\n",
    "             validation_data=valid_dg,\n",
    "             validation_steps=len(glob(img_dir + '/*')) / valid_batch_size,\n",
    "             epochs=50,\n",
    "             shuffle=True,\n",
    "             verbose=1,\n",
    "             initial_epoch=0,\n",
    "             callbacks=[ClearTrainingOutput()],\n",
    "             use_multiprocessing=True,\n",
    "             workers=6)\n",
    "\n",
    "class ClearTrainingOutput(tf.keras.callbacks.Callback):\n",
    "    def on_train_end(*args, **kwargs):\n",
    "        IPython.display.clear_output(wait = True)"
   ]
  },
  {
   "cell_type": "code",
   "execution_count": null,
   "id": "6c8d7c87",
   "metadata": {},
   "outputs": [],
   "source": [
    "# Evaluate the performance of model using the loss and predictive accuracy of the model on the test dataset.\n",
    "model_loss, model_accuracy = nn_model.evaluate(X_test_scaled,y_test,verbose=2)\n",
    "print(f\"Loss: {model_loss}, Accuracy: {model_accuracy}\")"
   ]
  },
  {
   "cell_type": "code",
   "execution_count": null,
   "id": "e26f6a7f",
   "metadata": {},
   "outputs": [],
   "source": []
  },
  {
   "cell_type": "code",
   "execution_count": null,
   "id": "4411142e",
   "metadata": {},
   "outputs": [],
   "source": []
  },
  {
   "cell_type": "code",
   "execution_count": null,
   "id": "e04e8590",
   "metadata": {},
   "outputs": [],
   "source": []
  },
  {
   "cell_type": "code",
   "execution_count": null,
   "id": "59c1876f",
   "metadata": {},
   "outputs": [],
   "source": []
  },
  {
   "cell_type": "code",
   "execution_count": null,
   "id": "7f723520",
   "metadata": {},
   "outputs": [],
   "source": []
  },
  {
   "cell_type": "code",
   "execution_count": null,
   "id": "407614ff",
   "metadata": {},
   "outputs": [],
   "source": [
    "# # dfTest[['A', 'B']] = scaler.fit_transform(dfTest[['A','B']].to_numpy())\n",
    "\n",
    "# slim_unique[\n",
    "#             [\n",
    "#             'trending_days',\n",
    "#             'view_count', \n",
    "#             'views_while_trending',\n",
    "#             'pretrend_view_count_temp', \n",
    "#             'while_trend_views_count_temp',\n",
    "#             'likes_count', \n",
    "#             'likes_while_trending', \n",
    "#             'pretrend_likes_count_temp',\n",
    "#             'while_trend_likes_count_temp',\n",
    "#             'dislikes_count',\n",
    "#             'dislikes_while_trending', \n",
    "#             'pretrend_dislikes_count_temp',\n",
    "#             'while_trend_dislikes_count_temp', \n",
    "#             'comment_count',\n",
    "#             'comments_while_trending', \n",
    "#             'pretrend_comment_count_temp',\n",
    "#             'while_trend_comment_count_temp'\n",
    "#             ]\n",
    "#            ] = scaler.fit_transform(slim_unique[\n",
    "#                                                 [\n",
    "#                                                 'trending_days',\n",
    "#                                                 'view_count', \n",
    "#                                                 'views_while_trending',\n",
    "#                                                 'pretrend_view_count_temp', \n",
    "#                                                 'while_trend_views_count_temp',\n",
    "#                                                 'likes_count', \n",
    "#                                                 'likes_while_trending', \n",
    "#                                                 'pretrend_likes_count_temp',\n",
    "#                                                 'while_trend_likes_count_temp',\n",
    "#                                                 'dislikes_count',\n",
    "#                                                 'dislikes_while_trending', \n",
    "#                                                 'pretrend_dislikes_count_temp',\n",
    "#                                                 'while_trend_dislikes_count_temp', \n",
    "#                                                 'comment_count',\n",
    "#                                                 'comments_while_trending', \n",
    "#                                                 'pretrend_comment_count_temp',\n",
    "#                                                 'while_trend_comment_count_temp'\n",
    "#                                                 ]\n",
    "#                                                ]\n",
    "#                                    )\n",
    "# slim_unique"
   ]
  },
  {
   "cell_type": "code",
   "execution_count": null,
   "id": "98060b00",
   "metadata": {},
   "outputs": [],
   "source": []
  },
  {
   "cell_type": "code",
   "execution_count": null,
   "id": "8df21f27",
   "metadata": {},
   "outputs": [],
   "source": []
  },
  {
   "cell_type": "code",
   "execution_count": null,
   "id": "88b767b2",
   "metadata": {},
   "outputs": [],
   "source": []
  },
  {
   "cell_type": "code",
   "execution_count": null,
   "id": "dc97390f",
   "metadata": {},
   "outputs": [],
   "source": [
    "def test_model(model, data):\n",
    "    X_train, X_test, y_train, y_test = data\n",
    "    reg = model.fit(X_train, y_train)\n",
    "    print(f'Model: {type(reg).__name__}')\n",
    "    print(f'Train score: {reg.score(X_train, y_train)}')\n",
    "    print(f'Test Score: {reg.score(X_test, y_test)}\\n')\n",
    "    plt.show()   "
   ]
  },
  {
   "cell_type": "code",
   "execution_count": null,
   "id": "fe9c7c42",
   "metadata": {},
   "outputs": [],
   "source": [
    "from sklearn.neighbors import KNeighborsRegressor\n",
    "from sklearn.ensemble import RandomForestRegressor, ExtraTreesRegressor, AdaBoostRegressor\n",
    "from sklearn.svm import SVR"
   ]
  },
  {
   "cell_type": "code",
   "execution_count": null,
   "id": "6b298395",
   "metadata": {},
   "outputs": [],
   "source": [
    "data = [X_train, X_test, y_train, y_test]"
   ]
  },
  {
   "cell_type": "code",
   "execution_count": null,
   "id": "d6c157ea",
   "metadata": {},
   "outputs": [],
   "source": [
    "unique = unique.reset_index()"
   ]
  },
  {
   "cell_type": "code",
   "execution_count": null,
   "id": "127a5a96",
   "metadata": {},
   "outputs": [],
   "source": [
    "test_model(LinearRegression(), data)\n",
    "test_model(Lasso(max_iter=2000),data)\n",
    "test_model(KNeighborsRegressor(), data)\n",
    "test_model(RandomForestRegressor(), data)\n",
    "test_model(ExtraTreesRegressor(), data)\n",
    "test_model(AdaBoostRegressor(), data)\n",
    "test_model(SVR(C=1.0, epsilon=0.2), data)"
   ]
  },
  {
   "cell_type": "code",
   "execution_count": null,
   "id": "6c5370b9",
   "metadata": {},
   "outputs": [],
   "source": []
  }
 ],
 "metadata": {
  "interpreter": {
   "hash": "0db0461b1f82769b8d6e0e32559349044198284e4a15daab25f6d850bd000b5a"
  },
  "kernelspec": {
   "display_name": "Python 3.8.8 ('base')",
   "language": "python",
   "name": "python3"
  },
  "language_info": {
   "codemirror_mode": {
    "name": "ipython",
    "version": 3
   },
   "file_extension": ".py",
   "mimetype": "text/x-python",
   "name": "python",
   "nbconvert_exporter": "python",
   "pygments_lexer": "ipython3",
   "version": "3.8.8"
  }
 },
 "nbformat": 4,
 "nbformat_minor": 5
}
