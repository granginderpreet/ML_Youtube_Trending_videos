{
 "cells": [
  {
   "cell_type": "code",
   "execution_count": null,
   "id": "7898729d",
   "metadata": {},
   "outputs": [],
   "source": [
    "# send to database\n",
    "# unique.to_sql('final_unique', engine)"
   ]
  },
  {
   "cell_type": "code",
   "execution_count": 2,
   "id": "22c2f088",
   "metadata": {},
   "outputs": [],
   "source": [
    "# dependencies\n",
    "\n",
    "import warnings\n",
    "warnings.filterwarnings('ignore')\n",
    "import numpy as np\n",
    "import pandas as pd\n",
    "import matplotlib.pyplot as plt\n",
    "from sqlalchemy import create_engine\n",
    "import datetime\n",
    "\n",
    "db_password = \"postgres\"\n",
    "db_user = \"postgres\"\n",
    "db_name = \"Youtube P3\"\n",
    "endpoint = 'youtube.cb1bticre0py.us-east-1.rds.amazonaws.com'\n",
    "\n",
    "connection_string = f\"postgresql://{db_user}:{db_password}@{endpoint}:5432/{db_name}\"\n",
    "engine = create_engine(connection_string)\n",
    "\n",
    "og_data = pd.read_sql('SELECT * FROM final_unique;', con = engine)"
   ]
  },
  {
   "cell_type": "code",
   "execution_count": 3,
   "id": "f30b0651",
   "metadata": {},
   "outputs": [],
   "source": [
    "# start here if you need to re-run instead of pulling from postgres in above cell\n",
    "\n",
    "final_unique = og_data.copy()"
   ]
  },
  {
   "cell_type": "code",
   "execution_count": 4,
   "id": "077b6828",
   "metadata": {},
   "outputs": [
    {
     "name": "stdout",
     "output_type": "stream",
     "text": [
      "video_id      20508\n",
      "trend_days    20508\n",
      "dtype: int64\n",
      "video_id      241112\n",
      "trend_days    241112\n",
      "dtype: int64\n",
      "video_id      0.0851\n",
      "trend_days    0.0851\n",
      "dtype: float64\n"
     ]
    }
   ],
   "source": [
    "## chose target_days for classification model\n",
    "\n",
    "target_df = pd.DataFrame(final_unique[['video_id', 'trend_days']])\n",
    "\n",
    "target_days = 8   #     <---- pick your target days here\n",
    "\n",
    "# prints statement below\n",
    "print(target_df[target_df.trend_days > target_days].count())\n",
    "print(target_df[target_df.trend_days > 0].count())              \n",
    "print(round((target_df[target_df.trend_days > target_days].count()) / (target_df[target_df.trend_days > 0].count()),4))     \n",
    "\n",
    "#             ↓↓↓↓↓  videos above days threshold / total videos / % of dataset above days threshold"
   ]
  },
  {
   "cell_type": "code",
   "execution_count": 5,
   "id": "1b8dadf2",
   "metadata": {},
   "outputs": [
    {
     "name": "stdout",
     "output_type": "stream",
     "text": [
      "(20508, 34)\n",
      "(20508, 34)\n",
      "(41016, 35)\n",
      " \n"
     ]
    },
    {
     "data": {
      "text/plain": [
       "Index(['index', 'video_id', 'category', 'category_e', 'country',\n",
       "       'publish_date', 'trending_date', 'publish_to_trend', 'publish_day',\n",
       "       'publish_day_num', 'combined_trend_days', 'trend_days', 'views',\n",
       "       'pt_views', 'wt_views', 'pt_views_rate', 'wt_views_rate', 'likes',\n",
       "       'pt_likes', 'wt_likes', 'pt_likes_rate', 'wt_likes_rate', 'likes_ratio',\n",
       "       'dislikes', 'pt_dislikes', 'wt_dislikes', 'pt_dislikes_rate',\n",
       "       'wt_dislikes_rate', 'comments', 'pt_comments', 'wt_comments',\n",
       "       'pt_comments_rate', 'wt_comments_rate', 'comments_ratio', 'target'],\n",
       "      dtype='object')"
      ]
     },
     "execution_count": 5,
     "metadata": {},
     "output_type": "execute_result"
    }
   ],
   "source": [
    "# create dataset with 50/50 > and < outcomes\n",
    "\n",
    "over_target = final_unique[final_unique.trend_days > target_days]\n",
    "under_target = final_unique[final_unique.trend_days <= target_days].sample(n=20508)  # <--- copy & paste top output of last cell\n",
    "\n",
    "df = pd.concat([over_target, under_target]).reset_index(drop=True)\n",
    "\n",
    "# add target to column to new 50/50 dataset\n",
    "\n",
    "df['target'] = df.trend_days > target_days\n",
    "df['target'] = df['target'].astype(int) # makes 1 or 0 for T or F\n",
    "\n",
    "df.reset_index(drop=True, inplace=True)\n",
    "\n",
    "print(over_target.shape)\n",
    "print(under_target.shape)\n",
    "print(df.shape)\n",
    "print(\" \")\n",
    "df.columns"
   ]
  },
  {
   "cell_type": "code",
   "execution_count": 6,
   "id": "c273e9d3",
   "metadata": {},
   "outputs": [],
   "source": [
    "# chose your features\n",
    "\n",
    "X = df[[\n",
    "    'category_e',\n",
    "    'publish_to_trend',\n",
    "    'publish_day_num',\n",
    "    'pt_views',\n",
    "    'pt_likes',\n",
    "    'pt_dislikes',\n",
    "    'pt_comments',\n",
    "    'likes_ratio',\n",
    "    'comments_ratio'\n",
    "    ]].to_numpy()\n",
    "\n",
    "y = df['target'].to_numpy()"
   ]
  },
  {
   "cell_type": "code",
   "execution_count": 7,
   "id": "63983cdc",
   "metadata": {},
   "outputs": [
    {
     "name": "stdout",
     "output_type": "stream",
     "text": [
      "(30762, 9)\n",
      "(30762,)\n"
     ]
    }
   ],
   "source": [
    "# scaling and splitting\n",
    "\n",
    "from sklearn.preprocessing import StandardScaler\n",
    "\n",
    "scaler = StandardScaler()\n",
    "sclr  = scaler.fit(X)\n",
    "X_scaled = sclr.transform(X)\n",
    "\n",
    "from sklearn.model_selection import train_test_split\n",
    "\n",
    "X_train_scaled, X_test_scaled, y_train, y_test = train_test_split(X_scaled, y,random_state=1)\n",
    "\n",
    "print(X_train_scaled.shape)\n",
    "print(y_train.shape)"
   ]
  },
  {
   "cell_type": "code",
   "execution_count": 8,
   "id": "d7bd05b8",
   "metadata": {},
   "outputs": [],
   "source": [
    "# KNN classifier\n",
    "from sklearn.neighbors import KNeighborsClassifier\n",
    "\n",
    "model = KNeighborsClassifier()"
   ]
  },
  {
   "cell_type": "code",
   "execution_count": 9,
   "id": "921aaec6",
   "metadata": {},
   "outputs": [],
   "source": [
    " # amount of fittings = weights + leafs + n_neighbors\n",
    "\n",
    "from sklearn.model_selection import GridSearchCV\n",
    "param_grid = {\n",
    "    'n_neighbors': [25, 29,33, 37, 41, 44, 49, 53, 57, 61],\n",
    "    'weights': ['uniform', 'distance'],\n",
    "    'leaf_size': [10, 50, 100, 500]\n",
    "}\n",
    "grid_clf = GridSearchCV(model, param_grid, verbose=3)"
   ]
  },
  {
   "cell_type": "code",
   "execution_count": 12,
   "id": "d79e804c",
   "metadata": {
    "scrolled": true
   },
   "outputs": [
    {
     "name": "stdout",
     "output_type": "stream",
     "text": [
      "Fitting 5 folds for each of 80 candidates, totalling 400 fits\n",
      "[CV 1/5] END leaf_size=10, n_neighbors=25, weights=uniform;, score=0.957 total time=   0.7s\n",
      "[CV 2/5] END leaf_size=10, n_neighbors=25, weights=uniform;, score=0.955 total time=   0.6s\n",
      "[CV 3/5] END leaf_size=10, n_neighbors=25, weights=uniform;, score=0.959 total time=   0.7s\n",
      "[CV 4/5] END leaf_size=10, n_neighbors=25, weights=uniform;, score=0.959 total time=   0.6s\n",
      "[CV 5/5] END leaf_size=10, n_neighbors=25, weights=uniform;, score=0.951 total time=   0.6s\n",
      "[CV 1/5] END leaf_size=10, n_neighbors=25, weights=distance;, score=0.958 total time=   0.6s\n",
      "[CV 2/5] END leaf_size=10, n_neighbors=25, weights=distance;, score=0.956 total time=   0.6s\n",
      "[CV 3/5] END leaf_size=10, n_neighbors=25, weights=distance;, score=0.960 total time=   0.6s\n",
      "[CV 4/5] END leaf_size=10, n_neighbors=25, weights=distance;, score=0.960 total time=   0.6s\n",
      "[CV 5/5] END leaf_size=10, n_neighbors=25, weights=distance;, score=0.952 total time=   0.6s\n",
      "[CV 1/5] END leaf_size=10, n_neighbors=29, weights=uniform;, score=0.957 total time=   0.7s\n",
      "[CV 2/5] END leaf_size=10, n_neighbors=29, weights=uniform;, score=0.955 total time=   0.7s\n",
      "[CV 3/5] END leaf_size=10, n_neighbors=29, weights=uniform;, score=0.959 total time=   0.8s\n",
      "[CV 4/5] END leaf_size=10, n_neighbors=29, weights=uniform;, score=0.959 total time=   0.8s\n",
      "[CV 5/5] END leaf_size=10, n_neighbors=29, weights=uniform;, score=0.951 total time=   0.7s\n",
      "[CV 1/5] END leaf_size=10, n_neighbors=29, weights=distance;, score=0.959 total time=   0.6s\n",
      "[CV 2/5] END leaf_size=10, n_neighbors=29, weights=distance;, score=0.956 total time=   0.7s\n",
      "[CV 3/5] END leaf_size=10, n_neighbors=29, weights=distance;, score=0.960 total time=   0.7s\n",
      "[CV 4/5] END leaf_size=10, n_neighbors=29, weights=distance;, score=0.959 total time=   0.7s\n",
      "[CV 5/5] END leaf_size=10, n_neighbors=29, weights=distance;, score=0.952 total time=   0.6s\n",
      "[CV 1/5] END leaf_size=10, n_neighbors=33, weights=uniform;, score=0.957 total time=   0.8s\n",
      "[CV 2/5] END leaf_size=10, n_neighbors=33, weights=uniform;, score=0.954 total time=   0.8s\n",
      "[CV 3/5] END leaf_size=10, n_neighbors=33, weights=uniform;, score=0.959 total time=   0.8s\n",
      "[CV 4/5] END leaf_size=10, n_neighbors=33, weights=uniform;, score=0.957 total time=   0.8s\n",
      "[CV 5/5] END leaf_size=10, n_neighbors=33, weights=uniform;, score=0.951 total time=   0.8s\n",
      "[CV 1/5] END leaf_size=10, n_neighbors=33, weights=distance;, score=0.959 total time=   0.7s\n",
      "[CV 2/5] END leaf_size=10, n_neighbors=33, weights=distance;, score=0.955 total time=   0.7s\n",
      "[CV 3/5] END leaf_size=10, n_neighbors=33, weights=distance;, score=0.959 total time=   0.7s\n",
      "[CV 4/5] END leaf_size=10, n_neighbors=33, weights=distance;, score=0.958 total time=   0.7s\n",
      "[CV 5/5] END leaf_size=10, n_neighbors=33, weights=distance;, score=0.952 total time=   0.7s\n",
      "[CV 1/5] END leaf_size=10, n_neighbors=37, weights=uniform;, score=0.956 total time=   0.8s\n",
      "[CV 2/5] END leaf_size=10, n_neighbors=37, weights=uniform;, score=0.954 total time=   0.9s\n",
      "[CV 3/5] END leaf_size=10, n_neighbors=37, weights=uniform;, score=0.958 total time=   0.8s\n",
      "[CV 4/5] END leaf_size=10, n_neighbors=37, weights=uniform;, score=0.957 total time=   0.8s\n",
      "[CV 5/5] END leaf_size=10, n_neighbors=37, weights=uniform;, score=0.951 total time=   0.8s\n",
      "[CV 1/5] END leaf_size=10, n_neighbors=37, weights=distance;, score=0.958 total time=   0.8s\n",
      "[CV 2/5] END leaf_size=10, n_neighbors=37, weights=distance;, score=0.954 total time=   0.8s\n",
      "[CV 3/5] END leaf_size=10, n_neighbors=37, weights=distance;, score=0.959 total time=   0.7s\n",
      "[CV 4/5] END leaf_size=10, n_neighbors=37, weights=distance;, score=0.957 total time=   0.7s\n",
      "[CV 5/5] END leaf_size=10, n_neighbors=37, weights=distance;, score=0.951 total time=   0.7s\n",
      "[CV 1/5] END leaf_size=10, n_neighbors=41, weights=uniform;, score=0.956 total time=   0.9s\n",
      "[CV 2/5] END leaf_size=10, n_neighbors=41, weights=uniform;, score=0.953 total time=   0.8s\n",
      "[CV 3/5] END leaf_size=10, n_neighbors=41, weights=uniform;, score=0.957 total time=   0.8s\n",
      "[CV 4/5] END leaf_size=10, n_neighbors=41, weights=uniform;, score=0.957 total time=   0.9s\n",
      "[CV 5/5] END leaf_size=10, n_neighbors=41, weights=uniform;, score=0.950 total time=   0.9s\n",
      "[CV 1/5] END leaf_size=10, n_neighbors=41, weights=distance;, score=0.957 total time=   0.8s\n",
      "[CV 2/5] END leaf_size=10, n_neighbors=41, weights=distance;, score=0.954 total time=   0.8s\n",
      "[CV 3/5] END leaf_size=10, n_neighbors=41, weights=distance;, score=0.958 total time=   0.8s\n",
      "[CV 4/5] END leaf_size=10, n_neighbors=41, weights=distance;, score=0.957 total time=   0.8s\n",
      "[CV 5/5] END leaf_size=10, n_neighbors=41, weights=distance;, score=0.951 total time=   0.8s\n",
      "[CV 1/5] END leaf_size=10, n_neighbors=44, weights=uniform;, score=0.957 total time=   0.9s\n",
      "[CV 2/5] END leaf_size=10, n_neighbors=44, weights=uniform;, score=0.954 total time=   0.9s\n",
      "[CV 3/5] END leaf_size=10, n_neighbors=44, weights=uniform;, score=0.958 total time=   0.9s\n",
      "[CV 4/5] END leaf_size=10, n_neighbors=44, weights=uniform;, score=0.957 total time=   0.9s\n",
      "[CV 5/5] END leaf_size=10, n_neighbors=44, weights=uniform;, score=0.950 total time=   0.9s\n",
      "[CV 1/5] END leaf_size=10, n_neighbors=44, weights=distance;, score=0.957 total time=   0.8s\n",
      "[CV 2/5] END leaf_size=10, n_neighbors=44, weights=distance;, score=0.954 total time=   0.8s\n",
      "[CV 3/5] END leaf_size=10, n_neighbors=44, weights=distance;, score=0.958 total time=   0.8s\n",
      "[CV 4/5] END leaf_size=10, n_neighbors=44, weights=distance;, score=0.956 total time=   0.9s\n",
      "[CV 5/5] END leaf_size=10, n_neighbors=44, weights=distance;, score=0.951 total time=   0.8s\n",
      "[CV 1/5] END leaf_size=10, n_neighbors=49, weights=uniform;, score=0.955 total time=   0.9s\n",
      "[CV 2/5] END leaf_size=10, n_neighbors=49, weights=uniform;, score=0.954 total time=   0.9s\n",
      "[CV 3/5] END leaf_size=10, n_neighbors=49, weights=uniform;, score=0.957 total time=   0.9s\n",
      "[CV 4/5] END leaf_size=10, n_neighbors=49, weights=uniform;, score=0.957 total time=   0.9s\n",
      "[CV 5/5] END leaf_size=10, n_neighbors=49, weights=uniform;, score=0.950 total time=   0.9s\n",
      "[CV 1/5] END leaf_size=10, n_neighbors=49, weights=distance;, score=0.957 total time=   0.8s\n",
      "[CV 2/5] END leaf_size=10, n_neighbors=49, weights=distance;, score=0.954 total time=   0.9s\n",
      "[CV 3/5] END leaf_size=10, n_neighbors=49, weights=distance;, score=0.958 total time=   0.8s\n",
      "[CV 4/5] END leaf_size=10, n_neighbors=49, weights=distance;, score=0.956 total time=   0.8s\n",
      "[CV 5/5] END leaf_size=10, n_neighbors=49, weights=distance;, score=0.951 total time=   0.8s\n",
      "[CV 1/5] END leaf_size=10, n_neighbors=53, weights=uniform;, score=0.955 total time=   0.9s\n",
      "[CV 2/5] END leaf_size=10, n_neighbors=53, weights=uniform;, score=0.954 total time=   1.0s\n",
      "[CV 3/5] END leaf_size=10, n_neighbors=53, weights=uniform;, score=0.957 total time=   0.9s\n",
      "[CV 4/5] END leaf_size=10, n_neighbors=53, weights=uniform;, score=0.956 total time=   0.9s\n",
      "[CV 5/5] END leaf_size=10, n_neighbors=53, weights=uniform;, score=0.950 total time=   0.9s\n",
      "[CV 1/5] END leaf_size=10, n_neighbors=53, weights=distance;, score=0.957 total time=   0.9s\n",
      "[CV 2/5] END leaf_size=10, n_neighbors=53, weights=distance;, score=0.954 total time=   0.9s\n",
      "[CV 3/5] END leaf_size=10, n_neighbors=53, weights=distance;, score=0.958 total time=   0.9s\n",
      "[CV 4/5] END leaf_size=10, n_neighbors=53, weights=distance;, score=0.956 total time=   0.9s\n",
      "[CV 5/5] END leaf_size=10, n_neighbors=53, weights=distance;, score=0.950 total time=   0.9s\n",
      "[CV 1/5] END leaf_size=10, n_neighbors=57, weights=uniform;, score=0.956 total time=   1.0s\n",
      "[CV 2/5] END leaf_size=10, n_neighbors=57, weights=uniform;, score=0.954 total time=   1.0s\n",
      "[CV 3/5] END leaf_size=10, n_neighbors=57, weights=uniform;, score=0.957 total time=   1.0s\n",
      "[CV 4/5] END leaf_size=10, n_neighbors=57, weights=uniform;, score=0.956 total time=   1.0s\n",
      "[CV 5/5] END leaf_size=10, n_neighbors=57, weights=uniform;, score=0.950 total time=   1.0s\n",
      "[CV 1/5] END leaf_size=10, n_neighbors=57, weights=distance;, score=0.957 total time=   0.9s\n",
      "[CV 2/5] END leaf_size=10, n_neighbors=57, weights=distance;, score=0.954 total time=   0.9s\n",
      "[CV 3/5] END leaf_size=10, n_neighbors=57, weights=distance;, score=0.958 total time=   0.9s\n"
     ]
    },
    {
     "name": "stdout",
     "output_type": "stream",
     "text": [
      "[CV 4/5] END leaf_size=10, n_neighbors=57, weights=distance;, score=0.956 total time=   0.9s\n",
      "[CV 5/5] END leaf_size=10, n_neighbors=57, weights=distance;, score=0.951 total time=   0.9s\n",
      "[CV 1/5] END leaf_size=10, n_neighbors=61, weights=uniform;, score=0.956 total time=   1.0s\n",
      "[CV 2/5] END leaf_size=10, n_neighbors=61, weights=uniform;, score=0.954 total time=   1.0s\n",
      "[CV 3/5] END leaf_size=10, n_neighbors=61, weights=uniform;, score=0.957 total time=   1.1s\n",
      "[CV 4/5] END leaf_size=10, n_neighbors=61, weights=uniform;, score=0.957 total time=   1.0s\n",
      "[CV 5/5] END leaf_size=10, n_neighbors=61, weights=uniform;, score=0.949 total time=   1.0s\n",
      "[CV 1/5] END leaf_size=10, n_neighbors=61, weights=distance;, score=0.956 total time=   0.9s\n",
      "[CV 2/5] END leaf_size=10, n_neighbors=61, weights=distance;, score=0.954 total time=   0.9s\n",
      "[CV 3/5] END leaf_size=10, n_neighbors=61, weights=distance;, score=0.958 total time=   0.9s\n",
      "[CV 4/5] END leaf_size=10, n_neighbors=61, weights=distance;, score=0.957 total time=   0.9s\n",
      "[CV 5/5] END leaf_size=10, n_neighbors=61, weights=distance;, score=0.951 total time=   0.9s\n",
      "[CV 1/5] END leaf_size=50, n_neighbors=25, weights=uniform;, score=0.957 total time=   0.5s\n",
      "[CV 2/5] END leaf_size=50, n_neighbors=25, weights=uniform;, score=0.955 total time=   0.5s\n",
      "[CV 3/5] END leaf_size=50, n_neighbors=25, weights=uniform;, score=0.959 total time=   0.6s\n",
      "[CV 4/5] END leaf_size=50, n_neighbors=25, weights=uniform;, score=0.959 total time=   0.5s\n",
      "[CV 5/5] END leaf_size=50, n_neighbors=25, weights=uniform;, score=0.951 total time=   0.6s\n",
      "[CV 1/5] END leaf_size=50, n_neighbors=25, weights=distance;, score=0.958 total time=   0.5s\n",
      "[CV 2/5] END leaf_size=50, n_neighbors=25, weights=distance;, score=0.956 total time=   0.5s\n",
      "[CV 3/5] END leaf_size=50, n_neighbors=25, weights=distance;, score=0.960 total time=   0.5s\n",
      "[CV 4/5] END leaf_size=50, n_neighbors=25, weights=distance;, score=0.960 total time=   0.5s\n",
      "[CV 5/5] END leaf_size=50, n_neighbors=25, weights=distance;, score=0.952 total time=   0.5s\n",
      "[CV 1/5] END leaf_size=50, n_neighbors=29, weights=uniform;, score=0.957 total time=   0.6s\n",
      "[CV 2/5] END leaf_size=50, n_neighbors=29, weights=uniform;, score=0.955 total time=   0.6s\n",
      "[CV 3/5] END leaf_size=50, n_neighbors=29, weights=uniform;, score=0.959 total time=   0.7s\n",
      "[CV 4/5] END leaf_size=50, n_neighbors=29, weights=uniform;, score=0.959 total time=   0.6s\n",
      "[CV 5/5] END leaf_size=50, n_neighbors=29, weights=uniform;, score=0.951 total time=   0.6s\n",
      "[CV 1/5] END leaf_size=50, n_neighbors=29, weights=distance;, score=0.959 total time=   0.5s\n",
      "[CV 2/5] END leaf_size=50, n_neighbors=29, weights=distance;, score=0.956 total time=   0.5s\n",
      "[CV 3/5] END leaf_size=50, n_neighbors=29, weights=distance;, score=0.960 total time=   0.5s\n",
      "[CV 4/5] END leaf_size=50, n_neighbors=29, weights=distance;, score=0.959 total time=   0.5s\n",
      "[CV 5/5] END leaf_size=50, n_neighbors=29, weights=distance;, score=0.952 total time=   0.5s\n",
      "[CV 1/5] END leaf_size=50, n_neighbors=33, weights=uniform;, score=0.957 total time=   0.6s\n",
      "[CV 2/5] END leaf_size=50, n_neighbors=33, weights=uniform;, score=0.954 total time=   0.6s\n",
      "[CV 3/5] END leaf_size=50, n_neighbors=33, weights=uniform;, score=0.959 total time=   0.6s\n",
      "[CV 4/5] END leaf_size=50, n_neighbors=33, weights=uniform;, score=0.957 total time=   0.7s\n",
      "[CV 5/5] END leaf_size=50, n_neighbors=33, weights=uniform;, score=0.951 total time=   0.6s\n",
      "[CV 1/5] END leaf_size=50, n_neighbors=33, weights=distance;, score=0.959 total time=   0.6s\n",
      "[CV 2/5] END leaf_size=50, n_neighbors=33, weights=distance;, score=0.955 total time=   0.5s\n",
      "[CV 3/5] END leaf_size=50, n_neighbors=33, weights=distance;, score=0.959 total time=   0.6s\n",
      "[CV 4/5] END leaf_size=50, n_neighbors=33, weights=distance;, score=0.958 total time=   0.6s\n",
      "[CV 5/5] END leaf_size=50, n_neighbors=33, weights=distance;, score=0.952 total time=   0.6s\n",
      "[CV 1/5] END leaf_size=50, n_neighbors=37, weights=uniform;, score=0.956 total time=   0.7s\n",
      "[CV 2/5] END leaf_size=50, n_neighbors=37, weights=uniform;, score=0.954 total time=   0.6s\n",
      "[CV 3/5] END leaf_size=50, n_neighbors=37, weights=uniform;, score=0.958 total time=   0.7s\n",
      "[CV 4/5] END leaf_size=50, n_neighbors=37, weights=uniform;, score=0.957 total time=   0.6s\n",
      "[CV 5/5] END leaf_size=50, n_neighbors=37, weights=uniform;, score=0.951 total time=   0.6s\n",
      "[CV 1/5] END leaf_size=50, n_neighbors=37, weights=distance;, score=0.958 total time=   0.6s\n",
      "[CV 2/5] END leaf_size=50, n_neighbors=37, weights=distance;, score=0.954 total time=   0.6s\n",
      "[CV 3/5] END leaf_size=50, n_neighbors=37, weights=distance;, score=0.959 total time=   0.6s\n",
      "[CV 4/5] END leaf_size=50, n_neighbors=37, weights=distance;, score=0.957 total time=   0.5s\n",
      "[CV 5/5] END leaf_size=50, n_neighbors=37, weights=distance;, score=0.951 total time=   0.5s\n",
      "[CV 1/5] END leaf_size=50, n_neighbors=41, weights=uniform;, score=0.956 total time=   0.6s\n",
      "[CV 2/5] END leaf_size=50, n_neighbors=41, weights=uniform;, score=0.953 total time=   0.7s\n",
      "[CV 3/5] END leaf_size=50, n_neighbors=41, weights=uniform;, score=0.957 total time=   0.7s\n",
      "[CV 4/5] END leaf_size=50, n_neighbors=41, weights=uniform;, score=0.957 total time=   0.7s\n",
      "[CV 5/5] END leaf_size=50, n_neighbors=41, weights=uniform;, score=0.950 total time=   0.7s\n",
      "[CV 1/5] END leaf_size=50, n_neighbors=41, weights=distance;, score=0.957 total time=   0.6s\n",
      "[CV 2/5] END leaf_size=50, n_neighbors=41, weights=distance;, score=0.954 total time=   0.6s\n",
      "[CV 3/5] END leaf_size=50, n_neighbors=41, weights=distance;, score=0.958 total time=   0.6s\n",
      "[CV 4/5] END leaf_size=50, n_neighbors=41, weights=distance;, score=0.957 total time=   0.6s\n",
      "[CV 5/5] END leaf_size=50, n_neighbors=41, weights=distance;, score=0.951 total time=   0.6s\n",
      "[CV 1/5] END leaf_size=50, n_neighbors=44, weights=uniform;, score=0.957 total time=   0.7s\n",
      "[CV 2/5] END leaf_size=50, n_neighbors=44, weights=uniform;, score=0.954 total time=   0.7s\n",
      "[CV 3/5] END leaf_size=50, n_neighbors=44, weights=uniform;, score=0.958 total time=   0.7s\n",
      "[CV 4/5] END leaf_size=50, n_neighbors=44, weights=uniform;, score=0.957 total time=   0.7s\n",
      "[CV 5/5] END leaf_size=50, n_neighbors=44, weights=uniform;, score=0.950 total time=   0.7s\n",
      "[CV 1/5] END leaf_size=50, n_neighbors=44, weights=distance;, score=0.957 total time=   0.6s\n",
      "[CV 2/5] END leaf_size=50, n_neighbors=44, weights=distance;, score=0.954 total time=   0.6s\n",
      "[CV 3/5] END leaf_size=50, n_neighbors=44, weights=distance;, score=0.958 total time=   0.6s\n",
      "[CV 4/5] END leaf_size=50, n_neighbors=44, weights=distance;, score=0.956 total time=   0.6s\n",
      "[CV 5/5] END leaf_size=50, n_neighbors=44, weights=distance;, score=0.951 total time=   0.6s\n",
      "[CV 1/5] END leaf_size=50, n_neighbors=49, weights=uniform;, score=0.955 total time=   0.8s\n",
      "[CV 2/5] END leaf_size=50, n_neighbors=49, weights=uniform;, score=0.954 total time=   0.7s\n",
      "[CV 3/5] END leaf_size=50, n_neighbors=49, weights=uniform;, score=0.957 total time=   0.8s\n",
      "[CV 4/5] END leaf_size=50, n_neighbors=49, weights=uniform;, score=0.957 total time=   0.7s\n",
      "[CV 5/5] END leaf_size=50, n_neighbors=49, weights=uniform;, score=0.950 total time=   0.7s\n",
      "[CV 1/5] END leaf_size=50, n_neighbors=49, weights=distance;, score=0.957 total time=   0.6s\n",
      "[CV 2/5] END leaf_size=50, n_neighbors=49, weights=distance;, score=0.954 total time=   0.7s\n",
      "[CV 3/5] END leaf_size=50, n_neighbors=49, weights=distance;, score=0.958 total time=   0.7s\n",
      "[CV 4/5] END leaf_size=50, n_neighbors=49, weights=distance;, score=0.956 total time=   0.7s\n",
      "[CV 5/5] END leaf_size=50, n_neighbors=49, weights=distance;, score=0.951 total time=   0.6s\n",
      "[CV 1/5] END leaf_size=50, n_neighbors=53, weights=uniform;, score=0.955 total time=   0.8s\n",
      "[CV 2/5] END leaf_size=50, n_neighbors=53, weights=uniform;, score=0.954 total time=   0.8s\n",
      "[CV 3/5] END leaf_size=50, n_neighbors=53, weights=uniform;, score=0.957 total time=   0.7s\n",
      "[CV 4/5] END leaf_size=50, n_neighbors=53, weights=uniform;, score=0.956 total time=   0.7s\n",
      "[CV 5/5] END leaf_size=50, n_neighbors=53, weights=uniform;, score=0.950 total time=   0.7s\n",
      "[CV 1/5] END leaf_size=50, n_neighbors=53, weights=distance;, score=0.957 total time=   0.6s\n",
      "[CV 2/5] END leaf_size=50, n_neighbors=53, weights=distance;, score=0.954 total time=   0.7s\n"
     ]
    },
    {
     "name": "stdout",
     "output_type": "stream",
     "text": [
      "[CV 3/5] END leaf_size=50, n_neighbors=53, weights=distance;, score=0.958 total time=   0.7s\n",
      "[CV 4/5] END leaf_size=50, n_neighbors=53, weights=distance;, score=0.956 total time=   0.6s\n",
      "[CV 5/5] END leaf_size=50, n_neighbors=53, weights=distance;, score=0.950 total time=   0.6s\n",
      "[CV 1/5] END leaf_size=50, n_neighbors=57, weights=uniform;, score=0.956 total time=   0.7s\n",
      "[CV 2/5] END leaf_size=50, n_neighbors=57, weights=uniform;, score=0.954 total time=   0.7s\n",
      "[CV 3/5] END leaf_size=50, n_neighbors=57, weights=uniform;, score=0.957 total time=   0.7s\n",
      "[CV 4/5] END leaf_size=50, n_neighbors=57, weights=uniform;, score=0.956 total time=   0.7s\n",
      "[CV 5/5] END leaf_size=50, n_neighbors=57, weights=uniform;, score=0.950 total time=   0.7s\n",
      "[CV 1/5] END leaf_size=50, n_neighbors=57, weights=distance;, score=0.957 total time=   0.7s\n",
      "[CV 2/5] END leaf_size=50, n_neighbors=57, weights=distance;, score=0.954 total time=   0.7s\n",
      "[CV 3/5] END leaf_size=50, n_neighbors=57, weights=distance;, score=0.958 total time=   0.7s\n",
      "[CV 4/5] END leaf_size=50, n_neighbors=57, weights=distance;, score=0.956 total time=   0.6s\n",
      "[CV 5/5] END leaf_size=50, n_neighbors=57, weights=distance;, score=0.951 total time=   0.6s\n",
      "[CV 1/5] END leaf_size=50, n_neighbors=61, weights=uniform;, score=0.956 total time=   0.8s\n",
      "[CV 2/5] END leaf_size=50, n_neighbors=61, weights=uniform;, score=0.954 total time=   0.8s\n",
      "[CV 3/5] END leaf_size=50, n_neighbors=61, weights=uniform;, score=0.957 total time=   0.8s\n",
      "[CV 4/5] END leaf_size=50, n_neighbors=61, weights=uniform;, score=0.957 total time=   0.8s\n",
      "[CV 5/5] END leaf_size=50, n_neighbors=61, weights=uniform;, score=0.949 total time=   0.8s\n",
      "[CV 1/5] END leaf_size=50, n_neighbors=61, weights=distance;, score=0.956 total time=   0.7s\n",
      "[CV 2/5] END leaf_size=50, n_neighbors=61, weights=distance;, score=0.954 total time=   0.7s\n",
      "[CV 3/5] END leaf_size=50, n_neighbors=61, weights=distance;, score=0.958 total time=   0.7s\n",
      "[CV 4/5] END leaf_size=50, n_neighbors=61, weights=distance;, score=0.957 total time=   0.7s\n",
      "[CV 5/5] END leaf_size=50, n_neighbors=61, weights=distance;, score=0.951 total time=   0.7s\n",
      "[CV 1/5] END leaf_size=100, n_neighbors=25, weights=uniform;, score=0.957 total time=   0.7s\n",
      "[CV 2/5] END leaf_size=100, n_neighbors=25, weights=uniform;, score=0.955 total time=   0.7s\n",
      "[CV 3/5] END leaf_size=100, n_neighbors=25, weights=uniform;, score=0.959 total time=   0.7s\n",
      "[CV 4/5] END leaf_size=100, n_neighbors=25, weights=uniform;, score=0.959 total time=   0.7s\n",
      "[CV 5/5] END leaf_size=100, n_neighbors=25, weights=uniform;, score=0.951 total time=   0.7s\n",
      "[CV 1/5] END leaf_size=100, n_neighbors=25, weights=distance;, score=0.958 total time=   0.6s\n",
      "[CV 2/5] END leaf_size=100, n_neighbors=25, weights=distance;, score=0.956 total time=   0.6s\n",
      "[CV 3/5] END leaf_size=100, n_neighbors=25, weights=distance;, score=0.960 total time=   0.6s\n",
      "[CV 4/5] END leaf_size=100, n_neighbors=25, weights=distance;, score=0.960 total time=   0.6s\n",
      "[CV 5/5] END leaf_size=100, n_neighbors=25, weights=distance;, score=0.952 total time=   0.6s\n",
      "[CV 1/5] END leaf_size=100, n_neighbors=29, weights=uniform;, score=0.957 total time=   0.7s\n",
      "[CV 2/5] END leaf_size=100, n_neighbors=29, weights=uniform;, score=0.955 total time=   0.7s\n",
      "[CV 3/5] END leaf_size=100, n_neighbors=29, weights=uniform;, score=0.959 total time=   0.7s\n",
      "[CV 4/5] END leaf_size=100, n_neighbors=29, weights=uniform;, score=0.959 total time=   0.7s\n",
      "[CV 5/5] END leaf_size=100, n_neighbors=29, weights=uniform;, score=0.951 total time=   0.7s\n",
      "[CV 1/5] END leaf_size=100, n_neighbors=29, weights=distance;, score=0.959 total time=   0.6s\n",
      "[CV 2/5] END leaf_size=100, n_neighbors=29, weights=distance;, score=0.956 total time=   0.7s\n",
      "[CV 3/5] END leaf_size=100, n_neighbors=29, weights=distance;, score=0.960 total time=   0.7s\n",
      "[CV 4/5] END leaf_size=100, n_neighbors=29, weights=distance;, score=0.959 total time=   0.6s\n",
      "[CV 5/5] END leaf_size=100, n_neighbors=29, weights=distance;, score=0.952 total time=   0.6s\n",
      "[CV 1/5] END leaf_size=100, n_neighbors=33, weights=uniform;, score=0.957 total time=   0.7s\n",
      "[CV 2/5] END leaf_size=100, n_neighbors=33, weights=uniform;, score=0.954 total time=   0.7s\n",
      "[CV 3/5] END leaf_size=100, n_neighbors=33, weights=uniform;, score=0.959 total time=   0.7s\n",
      "[CV 4/5] END leaf_size=100, n_neighbors=33, weights=uniform;, score=0.957 total time=   0.7s\n",
      "[CV 5/5] END leaf_size=100, n_neighbors=33, weights=uniform;, score=0.951 total time=   0.7s\n",
      "[CV 1/5] END leaf_size=100, n_neighbors=33, weights=distance;, score=0.959 total time=   0.6s\n",
      "[CV 2/5] END leaf_size=100, n_neighbors=33, weights=distance;, score=0.955 total time=   0.7s\n",
      "[CV 3/5] END leaf_size=100, n_neighbors=33, weights=distance;, score=0.959 total time=   0.7s\n",
      "[CV 4/5] END leaf_size=100, n_neighbors=33, weights=distance;, score=0.958 total time=   0.6s\n",
      "[CV 5/5] END leaf_size=100, n_neighbors=33, weights=distance;, score=0.952 total time=   0.6s\n",
      "[CV 1/5] END leaf_size=100, n_neighbors=37, weights=uniform;, score=0.956 total time=   0.8s\n",
      "[CV 2/5] END leaf_size=100, n_neighbors=37, weights=uniform;, score=0.954 total time=   0.7s\n",
      "[CV 3/5] END leaf_size=100, n_neighbors=37, weights=uniform;, score=0.958 total time=   0.8s\n",
      "[CV 4/5] END leaf_size=100, n_neighbors=37, weights=uniform;, score=0.957 total time=   0.8s\n",
      "[CV 5/5] END leaf_size=100, n_neighbors=37, weights=uniform;, score=0.951 total time=   0.7s\n",
      "[CV 1/5] END leaf_size=100, n_neighbors=37, weights=distance;, score=0.958 total time=   0.7s\n",
      "[CV 2/5] END leaf_size=100, n_neighbors=37, weights=distance;, score=0.954 total time=   0.7s\n",
      "[CV 3/5] END leaf_size=100, n_neighbors=37, weights=distance;, score=0.959 total time=   0.7s\n",
      "[CV 4/5] END leaf_size=100, n_neighbors=37, weights=distance;, score=0.957 total time=   0.6s\n",
      "[CV 5/5] END leaf_size=100, n_neighbors=37, weights=distance;, score=0.951 total time=   0.7s\n",
      "[CV 1/5] END leaf_size=100, n_neighbors=41, weights=uniform;, score=0.956 total time=   0.8s\n",
      "[CV 2/5] END leaf_size=100, n_neighbors=41, weights=uniform;, score=0.953 total time=   0.8s\n",
      "[CV 3/5] END leaf_size=100, n_neighbors=41, weights=uniform;, score=0.957 total time=   0.8s\n",
      "[CV 4/5] END leaf_size=100, n_neighbors=41, weights=uniform;, score=0.957 total time=   0.7s\n",
      "[CV 5/5] END leaf_size=100, n_neighbors=41, weights=uniform;, score=0.950 total time=   0.7s\n",
      "[CV 1/5] END leaf_size=100, n_neighbors=41, weights=distance;, score=0.957 total time=   0.7s\n",
      "[CV 2/5] END leaf_size=100, n_neighbors=41, weights=distance;, score=0.954 total time=   0.7s\n",
      "[CV 3/5] END leaf_size=100, n_neighbors=41, weights=distance;, score=0.958 total time=   0.7s\n",
      "[CV 4/5] END leaf_size=100, n_neighbors=41, weights=distance;, score=0.957 total time=   0.7s\n",
      "[CV 5/5] END leaf_size=100, n_neighbors=41, weights=distance;, score=0.951 total time=   0.7s\n",
      "[CV 1/5] END leaf_size=100, n_neighbors=44, weights=uniform;, score=0.957 total time=   0.8s\n",
      "[CV 2/5] END leaf_size=100, n_neighbors=44, weights=uniform;, score=0.954 total time=   0.8s\n",
      "[CV 3/5] END leaf_size=100, n_neighbors=44, weights=uniform;, score=0.958 total time=   0.8s\n",
      "[CV 4/5] END leaf_size=100, n_neighbors=44, weights=uniform;, score=0.957 total time=   0.8s\n",
      "[CV 5/5] END leaf_size=100, n_neighbors=44, weights=uniform;, score=0.950 total time=   0.7s\n",
      "[CV 1/5] END leaf_size=100, n_neighbors=44, weights=distance;, score=0.957 total time=   0.7s\n",
      "[CV 2/5] END leaf_size=100, n_neighbors=44, weights=distance;, score=0.954 total time=   0.7s\n",
      "[CV 3/5] END leaf_size=100, n_neighbors=44, weights=distance;, score=0.958 total time=   0.7s\n",
      "[CV 4/5] END leaf_size=100, n_neighbors=44, weights=distance;, score=0.956 total time=   0.7s\n",
      "[CV 5/5] END leaf_size=100, n_neighbors=44, weights=distance;, score=0.951 total time=   0.7s\n",
      "[CV 1/5] END leaf_size=100, n_neighbors=49, weights=uniform;, score=0.955 total time=   0.8s\n",
      "[CV 2/5] END leaf_size=100, n_neighbors=49, weights=uniform;, score=0.954 total time=   0.8s\n",
      "[CV 3/5] END leaf_size=100, n_neighbors=49, weights=uniform;, score=0.957 total time=   0.9s\n",
      "[CV 4/5] END leaf_size=100, n_neighbors=49, weights=uniform;, score=0.957 total time=   0.8s\n",
      "[CV 5/5] END leaf_size=100, n_neighbors=49, weights=uniform;, score=0.950 total time=   0.8s\n"
     ]
    },
    {
     "name": "stdout",
     "output_type": "stream",
     "text": [
      "[CV 1/5] END leaf_size=100, n_neighbors=49, weights=distance;, score=0.957 total time=   0.8s\n",
      "[CV 2/5] END leaf_size=100, n_neighbors=49, weights=distance;, score=0.954 total time=   0.7s\n",
      "[CV 3/5] END leaf_size=100, n_neighbors=49, weights=distance;, score=0.958 total time=   0.8s\n",
      "[CV 4/5] END leaf_size=100, n_neighbors=49, weights=distance;, score=0.956 total time=   0.8s\n",
      "[CV 5/5] END leaf_size=100, n_neighbors=49, weights=distance;, score=0.951 total time=   0.7s\n",
      "[CV 1/5] END leaf_size=100, n_neighbors=53, weights=uniform;, score=0.955 total time=   0.9s\n",
      "[CV 2/5] END leaf_size=100, n_neighbors=53, weights=uniform;, score=0.954 total time=   0.8s\n",
      "[CV 3/5] END leaf_size=100, n_neighbors=53, weights=uniform;, score=0.957 total time=   0.9s\n",
      "[CV 4/5] END leaf_size=100, n_neighbors=53, weights=uniform;, score=0.956 total time=   0.8s\n",
      "[CV 5/5] END leaf_size=100, n_neighbors=53, weights=uniform;, score=0.950 total time=   0.9s\n",
      "[CV 1/5] END leaf_size=100, n_neighbors=53, weights=distance;, score=0.957 total time=   0.7s\n",
      "[CV 2/5] END leaf_size=100, n_neighbors=53, weights=distance;, score=0.954 total time=   0.8s\n",
      "[CV 3/5] END leaf_size=100, n_neighbors=53, weights=distance;, score=0.958 total time=   0.8s\n",
      "[CV 4/5] END leaf_size=100, n_neighbors=53, weights=distance;, score=0.956 total time=   0.8s\n",
      "[CV 5/5] END leaf_size=100, n_neighbors=53, weights=distance;, score=0.950 total time=   0.8s\n",
      "[CV 1/5] END leaf_size=100, n_neighbors=57, weights=uniform;, score=0.956 total time=   0.9s\n",
      "[CV 2/5] END leaf_size=100, n_neighbors=57, weights=uniform;, score=0.954 total time=   0.9s\n",
      "[CV 3/5] END leaf_size=100, n_neighbors=57, weights=uniform;, score=0.957 total time=   0.9s\n",
      "[CV 4/5] END leaf_size=100, n_neighbors=57, weights=uniform;, score=0.956 total time=   0.8s\n",
      "[CV 5/5] END leaf_size=100, n_neighbors=57, weights=uniform;, score=0.950 total time=   0.8s\n",
      "[CV 1/5] END leaf_size=100, n_neighbors=57, weights=distance;, score=0.957 total time=   0.8s\n",
      "[CV 2/5] END leaf_size=100, n_neighbors=57, weights=distance;, score=0.954 total time=   0.8s\n",
      "[CV 3/5] END leaf_size=100, n_neighbors=57, weights=distance;, score=0.958 total time=   0.8s\n",
      "[CV 4/5] END leaf_size=100, n_neighbors=57, weights=distance;, score=0.956 total time=   0.8s\n",
      "[CV 5/5] END leaf_size=100, n_neighbors=57, weights=distance;, score=0.951 total time=   0.7s\n",
      "[CV 1/5] END leaf_size=100, n_neighbors=61, weights=uniform;, score=0.956 total time=   0.9s\n",
      "[CV 2/5] END leaf_size=100, n_neighbors=61, weights=uniform;, score=0.954 total time=   0.9s\n",
      "[CV 3/5] END leaf_size=100, n_neighbors=61, weights=uniform;, score=0.957 total time=   0.9s\n",
      "[CV 4/5] END leaf_size=100, n_neighbors=61, weights=uniform;, score=0.957 total time=   0.9s\n",
      "[CV 5/5] END leaf_size=100, n_neighbors=61, weights=uniform;, score=0.949 total time=   0.9s\n",
      "[CV 1/5] END leaf_size=100, n_neighbors=61, weights=distance;, score=0.956 total time=   0.8s\n",
      "[CV 2/5] END leaf_size=100, n_neighbors=61, weights=distance;, score=0.954 total time=   0.8s\n",
      "[CV 3/5] END leaf_size=100, n_neighbors=61, weights=distance;, score=0.958 total time=   0.9s\n",
      "[CV 4/5] END leaf_size=100, n_neighbors=61, weights=distance;, score=0.957 total time=   0.8s\n",
      "[CV 5/5] END leaf_size=100, n_neighbors=61, weights=distance;, score=0.951 total time=   0.8s\n",
      "[CV 1/5] END leaf_size=500, n_neighbors=25, weights=uniform;, score=0.957 total time=   1.1s\n",
      "[CV 2/5] END leaf_size=500, n_neighbors=25, weights=uniform;, score=0.955 total time=   1.2s\n",
      "[CV 3/5] END leaf_size=500, n_neighbors=25, weights=uniform;, score=0.959 total time=   1.1s\n",
      "[CV 4/5] END leaf_size=500, n_neighbors=25, weights=uniform;, score=0.959 total time=   1.0s\n",
      "[CV 5/5] END leaf_size=500, n_neighbors=25, weights=uniform;, score=0.951 total time=   1.0s\n",
      "[CV 1/5] END leaf_size=500, n_neighbors=25, weights=distance;, score=0.958 total time=   1.0s\n",
      "[CV 2/5] END leaf_size=500, n_neighbors=25, weights=distance;, score=0.956 total time=   1.0s\n",
      "[CV 3/5] END leaf_size=500, n_neighbors=25, weights=distance;, score=0.960 total time=   1.1s\n",
      "[CV 4/5] END leaf_size=500, n_neighbors=25, weights=distance;, score=0.960 total time=   1.0s\n",
      "[CV 5/5] END leaf_size=500, n_neighbors=25, weights=distance;, score=0.952 total time=   1.0s\n",
      "[CV 1/5] END leaf_size=500, n_neighbors=29, weights=uniform;, score=0.957 total time=   1.1s\n",
      "[CV 2/5] END leaf_size=500, n_neighbors=29, weights=uniform;, score=0.955 total time=   1.1s\n",
      "[CV 3/5] END leaf_size=500, n_neighbors=29, weights=uniform;, score=0.959 total time=   1.2s\n",
      "[CV 4/5] END leaf_size=500, n_neighbors=29, weights=uniform;, score=0.959 total time=   1.1s\n",
      "[CV 5/5] END leaf_size=500, n_neighbors=29, weights=uniform;, score=0.951 total time=   1.1s\n",
      "[CV 1/5] END leaf_size=500, n_neighbors=29, weights=distance;, score=0.959 total time=   1.0s\n",
      "[CV 2/5] END leaf_size=500, n_neighbors=29, weights=distance;, score=0.956 total time=   1.1s\n",
      "[CV 3/5] END leaf_size=500, n_neighbors=29, weights=distance;, score=0.960 total time=   1.1s\n",
      "[CV 4/5] END leaf_size=500, n_neighbors=29, weights=distance;, score=0.959 total time=   1.0s\n",
      "[CV 5/5] END leaf_size=500, n_neighbors=29, weights=distance;, score=0.952 total time=   1.0s\n",
      "[CV 1/5] END leaf_size=500, n_neighbors=33, weights=uniform;, score=0.957 total time=   1.2s\n",
      "[CV 2/5] END leaf_size=500, n_neighbors=33, weights=uniform;, score=0.954 total time=   1.2s\n",
      "[CV 3/5] END leaf_size=500, n_neighbors=33, weights=uniform;, score=0.959 total time=   1.2s\n",
      "[CV 4/5] END leaf_size=500, n_neighbors=33, weights=uniform;, score=0.957 total time=   1.1s\n",
      "[CV 5/5] END leaf_size=500, n_neighbors=33, weights=uniform;, score=0.951 total time=   1.2s\n",
      "[CV 1/5] END leaf_size=500, n_neighbors=33, weights=distance;, score=0.959 total time=   1.0s\n",
      "[CV 2/5] END leaf_size=500, n_neighbors=33, weights=distance;, score=0.955 total time=   1.1s\n",
      "[CV 3/5] END leaf_size=500, n_neighbors=33, weights=distance;, score=0.959 total time=   1.1s\n",
      "[CV 4/5] END leaf_size=500, n_neighbors=33, weights=distance;, score=0.958 total time=   1.1s\n",
      "[CV 5/5] END leaf_size=500, n_neighbors=33, weights=distance;, score=0.952 total time=   1.0s\n",
      "[CV 1/5] END leaf_size=500, n_neighbors=37, weights=uniform;, score=0.956 total time=   1.2s\n",
      "[CV 2/5] END leaf_size=500, n_neighbors=37, weights=uniform;, score=0.954 total time=   1.2s\n",
      "[CV 3/5] END leaf_size=500, n_neighbors=37, weights=uniform;, score=0.958 total time=   1.3s\n",
      "[CV 4/5] END leaf_size=500, n_neighbors=37, weights=uniform;, score=0.957 total time=   1.2s\n",
      "[CV 5/5] END leaf_size=500, n_neighbors=37, weights=uniform;, score=0.951 total time=   1.1s\n",
      "[CV 1/5] END leaf_size=500, n_neighbors=37, weights=distance;, score=0.958 total time=   1.1s\n",
      "[CV 2/5] END leaf_size=500, n_neighbors=37, weights=distance;, score=0.954 total time=   1.1s\n",
      "[CV 3/5] END leaf_size=500, n_neighbors=37, weights=distance;, score=0.959 total time=   1.2s\n",
      "[CV 4/5] END leaf_size=500, n_neighbors=37, weights=distance;, score=0.957 total time=   1.1s\n",
      "[CV 5/5] END leaf_size=500, n_neighbors=37, weights=distance;, score=0.951 total time=   1.0s\n",
      "[CV 1/5] END leaf_size=500, n_neighbors=41, weights=uniform;, score=0.956 total time=   1.2s\n",
      "[CV 2/5] END leaf_size=500, n_neighbors=41, weights=uniform;, score=0.953 total time=   1.2s\n",
      "[CV 3/5] END leaf_size=500, n_neighbors=41, weights=uniform;, score=0.957 total time=   1.2s\n",
      "[CV 4/5] END leaf_size=500, n_neighbors=41, weights=uniform;, score=0.957 total time=   1.2s\n",
      "[CV 5/5] END leaf_size=500, n_neighbors=41, weights=uniform;, score=0.950 total time=   1.1s\n",
      "[CV 1/5] END leaf_size=500, n_neighbors=41, weights=distance;, score=0.957 total time=   1.1s\n",
      "[CV 2/5] END leaf_size=500, n_neighbors=41, weights=distance;, score=0.954 total time=   1.1s\n",
      "[CV 3/5] END leaf_size=500, n_neighbors=41, weights=distance;, score=0.958 total time=   1.2s\n",
      "[CV 4/5] END leaf_size=500, n_neighbors=41, weights=distance;, score=0.957 total time=   1.2s\n",
      "[CV 5/5] END leaf_size=500, n_neighbors=41, weights=distance;, score=0.951 total time=   1.1s\n",
      "[CV 1/5] END leaf_size=500, n_neighbors=44, weights=uniform;, score=0.957 total time=   1.2s\n",
      "[CV 2/5] END leaf_size=500, n_neighbors=44, weights=uniform;, score=0.954 total time=   1.3s\n",
      "[CV 3/5] END leaf_size=500, n_neighbors=44, weights=uniform;, score=0.958 total time=   1.3s\n"
     ]
    },
    {
     "name": "stdout",
     "output_type": "stream",
     "text": [
      "[CV 4/5] END leaf_size=500, n_neighbors=44, weights=uniform;, score=0.957 total time=   1.2s\n",
      "[CV 5/5] END leaf_size=500, n_neighbors=44, weights=uniform;, score=0.950 total time=   1.2s\n",
      "[CV 1/5] END leaf_size=500, n_neighbors=44, weights=distance;, score=0.957 total time=   1.2s\n",
      "[CV 2/5] END leaf_size=500, n_neighbors=44, weights=distance;, score=0.954 total time=   1.1s\n",
      "[CV 3/5] END leaf_size=500, n_neighbors=44, weights=distance;, score=0.958 total time=   1.2s\n",
      "[CV 4/5] END leaf_size=500, n_neighbors=44, weights=distance;, score=0.956 total time=   1.2s\n",
      "[CV 5/5] END leaf_size=500, n_neighbors=44, weights=distance;, score=0.951 total time=   1.1s\n",
      "[CV 1/5] END leaf_size=500, n_neighbors=49, weights=uniform;, score=0.955 total time=   1.3s\n",
      "[CV 2/5] END leaf_size=500, n_neighbors=49, weights=uniform;, score=0.954 total time=   1.2s\n",
      "[CV 3/5] END leaf_size=500, n_neighbors=49, weights=uniform;, score=0.957 total time=   1.3s\n",
      "[CV 4/5] END leaf_size=500, n_neighbors=49, weights=uniform;, score=0.957 total time=   1.3s\n",
      "[CV 5/5] END leaf_size=500, n_neighbors=49, weights=uniform;, score=0.950 total time=   1.2s\n",
      "[CV 1/5] END leaf_size=500, n_neighbors=49, weights=distance;, score=0.957 total time=   1.2s\n",
      "[CV 2/5] END leaf_size=500, n_neighbors=49, weights=distance;, score=0.954 total time=   1.1s\n",
      "[CV 3/5] END leaf_size=500, n_neighbors=49, weights=distance;, score=0.958 total time=   1.2s\n",
      "[CV 4/5] END leaf_size=500, n_neighbors=49, weights=distance;, score=0.956 total time=   1.1s\n",
      "[CV 5/5] END leaf_size=500, n_neighbors=49, weights=distance;, score=0.951 total time=   1.1s\n",
      "[CV 1/5] END leaf_size=500, n_neighbors=53, weights=uniform;, score=0.955 total time=   1.2s\n",
      "[CV 2/5] END leaf_size=500, n_neighbors=53, weights=uniform;, score=0.954 total time=   1.3s\n",
      "[CV 3/5] END leaf_size=500, n_neighbors=53, weights=uniform;, score=0.957 total time=   1.3s\n",
      "[CV 4/5] END leaf_size=500, n_neighbors=53, weights=uniform;, score=0.956 total time=   1.2s\n",
      "[CV 5/5] END leaf_size=500, n_neighbors=53, weights=uniform;, score=0.950 total time=   1.2s\n",
      "[CV 1/5] END leaf_size=500, n_neighbors=53, weights=distance;, score=0.957 total time=   1.1s\n",
      "[CV 2/5] END leaf_size=500, n_neighbors=53, weights=distance;, score=0.954 total time=   1.2s\n",
      "[CV 3/5] END leaf_size=500, n_neighbors=53, weights=distance;, score=0.958 total time=   1.2s\n",
      "[CV 4/5] END leaf_size=500, n_neighbors=53, weights=distance;, score=0.956 total time=   1.2s\n",
      "[CV 5/5] END leaf_size=500, n_neighbors=53, weights=distance;, score=0.950 total time=   1.2s\n",
      "[CV 1/5] END leaf_size=500, n_neighbors=57, weights=uniform;, score=0.956 total time=   1.3s\n",
      "[CV 2/5] END leaf_size=500, n_neighbors=57, weights=uniform;, score=0.954 total time=   1.3s\n",
      "[CV 3/5] END leaf_size=500, n_neighbors=57, weights=uniform;, score=0.957 total time=   1.3s\n",
      "[CV 4/5] END leaf_size=500, n_neighbors=57, weights=uniform;, score=0.956 total time=   1.3s\n",
      "[CV 5/5] END leaf_size=500, n_neighbors=57, weights=uniform;, score=0.950 total time=   1.2s\n",
      "[CV 1/5] END leaf_size=500, n_neighbors=57, weights=distance;, score=0.957 total time=   1.2s\n",
      "[CV 2/5] END leaf_size=500, n_neighbors=57, weights=distance;, score=0.954 total time=   1.2s\n",
      "[CV 3/5] END leaf_size=500, n_neighbors=57, weights=distance;, score=0.958 total time=   1.3s\n",
      "[CV 4/5] END leaf_size=500, n_neighbors=57, weights=distance;, score=0.956 total time=   1.2s\n",
      "[CV 5/5] END leaf_size=500, n_neighbors=57, weights=distance;, score=0.951 total time=   1.2s\n",
      "[CV 1/5] END leaf_size=500, n_neighbors=61, weights=uniform;, score=0.956 total time=   1.3s\n",
      "[CV 2/5] END leaf_size=500, n_neighbors=61, weights=uniform;, score=0.954 total time=   1.4s\n",
      "[CV 3/5] END leaf_size=500, n_neighbors=61, weights=uniform;, score=0.957 total time=   1.4s\n",
      "[CV 4/5] END leaf_size=500, n_neighbors=61, weights=uniform;, score=0.957 total time=   1.4s\n",
      "[CV 5/5] END leaf_size=500, n_neighbors=61, weights=uniform;, score=0.949 total time=   1.3s\n",
      "[CV 1/5] END leaf_size=500, n_neighbors=61, weights=distance;, score=0.956 total time=   1.2s\n",
      "[CV 2/5] END leaf_size=500, n_neighbors=61, weights=distance;, score=0.954 total time=   1.2s\n",
      "[CV 3/5] END leaf_size=500, n_neighbors=61, weights=distance;, score=0.958 total time=   1.3s\n",
      "[CV 4/5] END leaf_size=500, n_neighbors=61, weights=distance;, score=0.957 total time=   1.2s\n",
      "[CV 5/5] END leaf_size=500, n_neighbors=61, weights=distance;, score=0.951 total time=   1.2s\n"
     ]
    },
    {
     "data": {
      "text/plain": [
       "GridSearchCV(estimator=KNeighborsClassifier(),\n",
       "             param_grid={'leaf_size': [10, 50, 100, 500],\n",
       "                         'n_neighbors': [25, 29, 33, 37, 41, 44, 49, 53, 57,\n",
       "                                         61],\n",
       "                         'weights': ['uniform', 'distance']},\n",
       "             verbose=3)"
      ]
     },
     "execution_count": 12,
     "metadata": {},
     "output_type": "execute_result"
    }
   ],
   "source": [
    "# Fit the model using the grid search estimator by trying each combination of parameters.\n",
    "\n",
    "grid_clf.fit(X_train_scaled, y_train)"
   ]
  },
  {
   "cell_type": "code",
   "execution_count": 14,
   "id": "8209a8b1",
   "metadata": {},
   "outputs": [
    {
     "name": "stdout",
     "output_type": "stream",
     "text": [
      "{'leaf_size': 10, 'n_neighbors': 25, 'weights': 'distance'}\n",
      "0.9573824877838778\n"
     ]
    }
   ],
   "source": [
    "# List the best parameters for this dataset\n",
    "print(grid_clf.best_params_)\n",
    "\n",
    "# List the best score\n",
    "print(grid_clf.best_score_)"
   ]
  },
  {
   "cell_type": "code",
   "execution_count": 15,
   "id": "0496928c",
   "metadata": {},
   "outputs": [
    {
     "data": {
      "text/plain": [
       "{'n_neighbors': array([11, 13, 15, 17, 19, 21, 23, 25, 27, 29]),\n",
       " 'weights': ['uniform', 'distance'],\n",
       " 'leaf_size': array([ 1,  2,  3,  4,  5,  6,  7,  8,  9, 10, 11, 12, 13, 14, 15, 16, 17,\n",
       "        18, 19, 20, 21, 22, 23, 24, 25, 26, 27, 28, 29, 30, 31, 32, 33, 34,\n",
       "        35, 36, 37, 38, 39, 40, 41, 42, 43, 44, 45, 46, 47, 48, 49, 50, 51,\n",
       "        52, 53, 54, 55, 56, 57, 58, 59, 60, 61, 62, 63, 64, 65, 66, 67, 68,\n",
       "        69, 70, 71, 72, 73, 74, 75, 76, 77, 78, 79, 80, 81, 82, 83, 84, 85,\n",
       "        86, 87, 88, 89, 90, 91, 92, 93, 94, 95, 96, 97, 98, 99])}"
      ]
     },
     "execution_count": 15,
     "metadata": {},
     "output_type": "execute_result"
    }
   ],
   "source": [
    "# Create the parameter object for the randomized search estimator.\n",
    "# Try adjusting n_neighbors with values of 1 through 19. Adjust leaf_size by using a range from 1 to 500.\n",
    "# Include both uniform and distance options for weights.\n",
    "param_grid = {\n",
    "    'n_neighbors': np.arange(11,31,2),\n",
    "    'weights': ['uniform', 'distance'],\n",
    "    'leaf_size': np.arange(1, 100)\n",
    "}\n",
    "param_grid"
   ]
  },
  {
   "cell_type": "code",
   "execution_count": 16,
   "id": "a30c01b2",
   "metadata": {},
   "outputs": [],
   "source": [
    "# Create the randomized search estimator by using the logistic regression model and the parameter grid that you created.\n",
    "from sklearn.model_selection import RandomizedSearchCV\n",
    "\n",
    "random_clf = RandomizedSearchCV(model, param_grid, random_state=0, verbose=3)"
   ]
  },
  {
   "cell_type": "code",
   "execution_count": 17,
   "id": "6ce9aec7",
   "metadata": {},
   "outputs": [
    {
     "name": "stdout",
     "output_type": "stream",
     "text": [
      "Fitting 5 folds for each of 10 candidates, totalling 50 fits\n",
      "[CV 1/5] END leaf_size=35, n_neighbors=15, weights=uniform;, score=0.960 total time=   0.4s\n",
      "[CV 2/5] END leaf_size=35, n_neighbors=15, weights=uniform;, score=0.957 total time=   0.4s\n",
      "[CV 3/5] END leaf_size=35, n_neighbors=15, weights=uniform;, score=0.960 total time=   0.4s\n",
      "[CV 4/5] END leaf_size=35, n_neighbors=15, weights=uniform;, score=0.961 total time=   0.4s\n",
      "[CV 5/5] END leaf_size=35, n_neighbors=15, weights=uniform;, score=0.954 total time=   0.4s\n",
      "[CV 1/5] END leaf_size=28, n_neighbors=29, weights=distance;, score=0.959 total time=   0.4s\n",
      "[CV 2/5] END leaf_size=28, n_neighbors=29, weights=distance;, score=0.956 total time=   0.4s\n",
      "[CV 3/5] END leaf_size=28, n_neighbors=29, weights=distance;, score=0.960 total time=   0.5s\n",
      "[CV 4/5] END leaf_size=28, n_neighbors=29, weights=distance;, score=0.959 total time=   0.4s\n",
      "[CV 5/5] END leaf_size=28, n_neighbors=29, weights=distance;, score=0.952 total time=   0.4s\n",
      "[CV 1/5] END leaf_size=83, n_neighbors=23, weights=distance;, score=0.959 total time=   0.4s\n",
      "[CV 2/5] END leaf_size=83, n_neighbors=23, weights=distance;, score=0.957 total time=   0.4s\n",
      "[CV 3/5] END leaf_size=83, n_neighbors=23, weights=distance;, score=0.961 total time=   0.5s\n",
      "[CV 4/5] END leaf_size=83, n_neighbors=23, weights=distance;, score=0.960 total time=   0.4s\n",
      "[CV 5/5] END leaf_size=83, n_neighbors=23, weights=distance;, score=0.951 total time=   0.4s\n",
      "[CV 1/5] END leaf_size=61, n_neighbors=27, weights=uniform;, score=0.957 total time=   0.5s\n",
      "[CV 2/5] END leaf_size=61, n_neighbors=27, weights=uniform;, score=0.955 total time=   0.5s\n",
      "[CV 3/5] END leaf_size=61, n_neighbors=27, weights=uniform;, score=0.960 total time=   0.6s\n",
      "[CV 4/5] END leaf_size=61, n_neighbors=27, weights=uniform;, score=0.958 total time=   0.5s\n",
      "[CV 5/5] END leaf_size=61, n_neighbors=27, weights=uniform;, score=0.951 total time=   0.6s\n",
      "[CV 1/5] END leaf_size=42, n_neighbors=25, weights=distance;, score=0.958 total time=   0.4s\n",
      "[CV 2/5] END leaf_size=42, n_neighbors=25, weights=distance;, score=0.956 total time=   0.4s\n",
      "[CV 3/5] END leaf_size=42, n_neighbors=25, weights=distance;, score=0.960 total time=   0.5s\n",
      "[CV 4/5] END leaf_size=42, n_neighbors=25, weights=distance;, score=0.960 total time=   0.5s\n",
      "[CV 5/5] END leaf_size=42, n_neighbors=25, weights=distance;, score=0.952 total time=   0.4s\n",
      "[CV 1/5] END leaf_size=39, n_neighbors=13, weights=distance;, score=0.961 total time=   0.3s\n",
      "[CV 2/5] END leaf_size=39, n_neighbors=13, weights=distance;, score=0.959 total time=   0.3s\n",
      "[CV 3/5] END leaf_size=39, n_neighbors=13, weights=distance;, score=0.962 total time=   0.3s\n",
      "[CV 4/5] END leaf_size=39, n_neighbors=13, weights=distance;, score=0.963 total time=   0.3s\n",
      "[CV 5/5] END leaf_size=39, n_neighbors=13, weights=distance;, score=0.956 total time=   0.3s\n",
      "[CV 1/5] END leaf_size=87, n_neighbors=21, weights=distance;, score=0.959 total time=   0.4s\n",
      "[CV 2/5] END leaf_size=87, n_neighbors=21, weights=distance;, score=0.957 total time=   0.5s\n",
      "[CV 3/5] END leaf_size=87, n_neighbors=21, weights=distance;, score=0.961 total time=   0.4s\n",
      "[CV 4/5] END leaf_size=87, n_neighbors=21, weights=distance;, score=0.961 total time=   0.5s\n",
      "[CV 5/5] END leaf_size=87, n_neighbors=21, weights=distance;, score=0.952 total time=   0.4s\n",
      "[CV 1/5] END leaf_size=70, n_neighbors=13, weights=distance;, score=0.961 total time=   0.3s\n",
      "[CV 2/5] END leaf_size=70, n_neighbors=13, weights=distance;, score=0.959 total time=   0.4s\n",
      "[CV 3/5] END leaf_size=70, n_neighbors=13, weights=distance;, score=0.962 total time=   0.4s\n",
      "[CV 4/5] END leaf_size=70, n_neighbors=13, weights=distance;, score=0.963 total time=   0.3s\n",
      "[CV 5/5] END leaf_size=70, n_neighbors=13, weights=distance;, score=0.956 total time=   0.3s\n",
      "[CV 1/5] END leaf_size=52, n_neighbors=23, weights=distance;, score=0.959 total time=   0.4s\n",
      "[CV 2/5] END leaf_size=52, n_neighbors=23, weights=distance;, score=0.957 total time=   0.5s\n",
      "[CV 3/5] END leaf_size=52, n_neighbors=23, weights=distance;, score=0.961 total time=   0.5s\n",
      "[CV 4/5] END leaf_size=52, n_neighbors=23, weights=distance;, score=0.960 total time=   0.5s\n",
      "[CV 5/5] END leaf_size=52, n_neighbors=23, weights=distance;, score=0.951 total time=   0.5s\n",
      "[CV 1/5] END leaf_size=88, n_neighbors=17, weights=distance;, score=0.960 total time=   0.4s\n",
      "[CV 2/5] END leaf_size=88, n_neighbors=17, weights=distance;, score=0.958 total time=   0.4s\n",
      "[CV 3/5] END leaf_size=88, n_neighbors=17, weights=distance;, score=0.962 total time=   0.4s\n",
      "[CV 4/5] END leaf_size=88, n_neighbors=17, weights=distance;, score=0.962 total time=   0.4s\n",
      "[CV 5/5] END leaf_size=88, n_neighbors=17, weights=distance;, score=0.954 total time=   0.4s\n"
     ]
    },
    {
     "data": {
      "text/plain": [
       "RandomizedSearchCV(estimator=KNeighborsClassifier(),\n",
       "                   param_distributions={'leaf_size': array([ 1,  2,  3,  4,  5,  6,  7,  8,  9, 10, 11, 12, 13, 14, 15, 16, 17,\n",
       "       18, 19, 20, 21, 22, 23, 24, 25, 26, 27, 28, 29, 30, 31, 32, 33, 34,\n",
       "       35, 36, 37, 38, 39, 40, 41, 42, 43, 44, 45, 46, 47, 48, 49, 50, 51,\n",
       "       52, 53, 54, 55, 56, 57, 58, 59, 60, 61, 62, 63, 64, 65, 66, 67, 68,\n",
       "       69, 70, 71, 72, 73, 74, 75, 76, 77, 78, 79, 80, 81, 82, 83, 84, 85,\n",
       "       86, 87, 88, 89, 90, 91, 92, 93, 94, 95, 96, 97, 98, 99]),\n",
       "                                        'n_neighbors': array([11, 13, 15, 17, 19, 21, 23, 25, 27, 29]),\n",
       "                                        'weights': ['uniform', 'distance']},\n",
       "                   random_state=0, verbose=3)"
      ]
     },
     "execution_count": 17,
     "metadata": {},
     "output_type": "execute_result"
    }
   ],
   "source": [
    "# Fit the model with randomized search estimator - feeding random samples of above param grid to the logistic model\n",
    "random_clf.fit(X_train_scaled, y_train)"
   ]
  },
  {
   "cell_type": "code",
   "execution_count": 18,
   "id": "c1ef9ce4",
   "metadata": {},
   "outputs": [
    {
     "name": "stdout",
     "output_type": "stream",
     "text": [
      "{'weights': 'distance', 'n_neighbors': 13, 'leaf_size': 39}\n"
     ]
    }
   ],
   "source": [
    "print(random_clf.best_params_)"
   ]
  },
  {
   "cell_type": "code",
   "execution_count": 19,
   "id": "93e382c8",
   "metadata": {},
   "outputs": [
    {
     "name": "stdout",
     "output_type": "stream",
     "text": [
      "0.9602756761531953\n"
     ]
    }
   ],
   "source": [
    "print(random_clf.best_score_)"
   ]
  },
  {
   "cell_type": "code",
   "execution_count": 21,
   "id": "46ad60bc",
   "metadata": {},
   "outputs": [],
   "source": [
    "# Make predictions with the hypertuned model\n",
    "predictions = random_clf.predict(X_test_scaled)"
   ]
  },
  {
   "cell_type": "code",
   "execution_count": 22,
   "id": "473ea332",
   "metadata": {},
   "outputs": [
    {
     "name": "stdout",
     "output_type": "stream",
     "text": [
      "              precision    recall  f1-score   support\n",
      "\n",
      "           1       0.99      0.94      0.96      5121\n",
      "           0       0.94      0.99      0.96      5133\n",
      "\n",
      "    accuracy                           0.96     10254\n",
      "   macro avg       0.96      0.96      0.96     10254\n",
      "weighted avg       0.96      0.96      0.96     10254\n",
      "\n"
     ]
    }
   ],
   "source": [
    "target_names = ['1', '0']\n",
    "\n",
    "# Calculate the classification report\n",
    "from sklearn.metrics import classification_report\n",
    "print(classification_report(y_test, predictions,\n",
    "                            target_names=target_names))"
   ]
  },
  {
   "cell_type": "code",
   "execution_count": 24,
   "id": "3f05c254",
   "metadata": {},
   "outputs": [
    {
     "data": {
      "text/plain": [
       "array([[4791,  330],\n",
       "       [  59, 5074]], dtype=int64)"
      ]
     },
     "execution_count": 24,
     "metadata": {},
     "output_type": "execute_result"
    }
   ],
   "source": [
    "from sklearn.metrics import confusion_matrix\n",
    "\n",
    "y_true = y_test\n",
    "y_pred = random_clf.predict(X_test_scaled)\n",
    "confusion_matrix(y_true, y_pred)"
   ]
  },
  {
   "cell_type": "code",
   "execution_count": 25,
   "id": "1748f830",
   "metadata": {},
   "outputs": [
    {
     "name": "stdout",
     "output_type": "stream",
     "text": [
      "k: 3, Train/Test Score: 0.977/0.962\n",
      "k: 5, Train/Test Score: 0.972/0.962\n",
      "k: 7, Train/Test Score: 0.970/0.962\n",
      "k: 9, Train/Test Score: 0.968/0.961\n",
      "k: 11, Train/Test Score: 0.966/0.960\n",
      "k: 13, Train/Test Score: 0.965/0.960\n",
      "k: 15, Train/Test Score: 0.963/0.960\n",
      "k: 17, Train/Test Score: 0.962/0.960\n",
      "k: 19, Train/Test Score: 0.961/0.959\n",
      "k: 21, Train/Test Score: 0.960/0.958\n",
      "k: 23, Train/Test Score: 0.960/0.959\n",
      "k: 25, Train/Test Score: 0.959/0.959\n",
      "k: 27, Train/Test Score: 0.959/0.958\n",
      "k: 29, Train/Test Score: 0.958/0.958\n"
     ]
    },
    {
     "data": {
      "image/png": "[encoded data removed]",
      "text/plain": [
       "<Figure size 432x288 with 1 Axes>"
      ]
     },
     "metadata": {
      "needs_background": "light"
     },
     "output_type": "display_data"
    }
   ],
   "source": [
    "from sklearn.neighbors import KNeighborsClassifier\n",
    "\n",
    "train_scores = []\n",
    "test_scores = []\n",
    "for k in range(3, 31, 2):\n",
    "    knn = KNeighborsClassifier(n_neighbors=k)\n",
    "    knn.fit(X_train_scaled, y_train)\n",
    "    train_score = knn.score(X_train_scaled, y_train)\n",
    "    test_score = knn.score(X_test_scaled, y_test)\n",
    "    train_scores.append(train_score)\n",
    "    test_scores.append(test_score)\n",
    "    print(f\"k: {k}, Train/Test Score: {train_score:.3f}/{test_score:.3f}\")\n",
    "    \n",
    "    \n",
    "plt.plot(range(3, 31, 2), train_scores, marker='o')\n",
    "plt.plot(range(3, 31, 2), test_scores, marker=\"x\")\n",
    "plt.xlabel(\"k neighbors\")\n",
    "plt.ylabel(\"Testing accuracy score\")\n",
    "plt.show()"
   ]
  },
  {
   "cell_type": "code",
   "execution_count": 27,
   "id": "e6dcad6f",
   "metadata": {},
   "outputs": [
    {
     "data": {
      "text/plain": [
       "array([[4725,  396],\n",
       "       [  34, 5099]], dtype=int64)"
      ]
     },
     "execution_count": 27,
     "metadata": {},
     "output_type": "execute_result"
    }
   ],
   "source": [
    "y_true = y_test\n",
    "y_pred = knn.predict(X_test_scaled)\n",
    "cm = confusion_matrix(y_true, y_pred)\n",
    "cm"
   ]
  },
  {
   "cell_type": "code",
   "execution_count": 28,
   "id": "41cadffb",
   "metadata": {},
   "outputs": [
    {
     "name": "stdout",
     "output_type": "stream",
     "text": [
      "              precision    recall  f1-score   support\n",
      "\n",
      "           0       0.99      0.92      0.96      5121\n",
      "           1       0.93      0.99      0.96      5133\n",
      "\n",
      "    accuracy                           0.96     10254\n",
      "   macro avg       0.96      0.96      0.96     10254\n",
      "weighted avg       0.96      0.96      0.96     10254\n",
      "\n"
     ]
    }
   ],
   "source": [
    "print(classification_report(y_true, y_pred))"
   ]
  },
  {
   "cell_type": "code",
   "execution_count": 29,
   "id": "d3978cbb",
   "metadata": {},
   "outputs": [
    {
     "data": {
      "text/plain": [
       "array([[1.        , 0.        ],\n",
       "       [1.        , 0.        ],\n",
       "       [0.        , 1.        ],\n",
       "       [1.        , 0.        ],\n",
       "       [1.        , 0.        ],\n",
       "       [1.        , 0.        ],\n",
       "       [0.        , 1.        ],\n",
       "       [1.        , 0.        ],\n",
       "       [1.        , 0.        ],\n",
       "       [1.        , 0.        ],\n",
       "       [0.37931034, 0.62068966],\n",
       "       [0.        , 1.        ],\n",
       "       [0.03448276, 0.96551724],\n",
       "       [1.        , 0.        ],\n",
       "       [1.        , 0.        ],\n",
       "       [0.03448276, 0.96551724],\n",
       "       [1.        , 0.        ],\n",
       "       [0.93103448, 0.06896552],\n",
       "       [1.        , 0.        ],\n",
       "       [0.        , 1.        ]])"
      ]
     },
     "execution_count": 29,
     "metadata": {},
     "output_type": "execute_result"
    }
   ],
   "source": [
    "# pairs adds up 1\n",
    "knn.predict_proba(X_test_scaled[0:20])"
   ]
  },
  {
   "cell_type": "code",
   "execution_count": 30,
   "id": "e9957264",
   "metadata": {},
   "outputs": [],
   "source": [
    "from sklearn.metrics import roc_curve\n",
    "\n",
    "y_pred_proba = knn.predict_proba(X_test_scaled)[:,1]\n",
    "fpr, tpr, thresholds = roc_curve(y_test, y_pred_proba)"
   ]
  },
  {
   "cell_type": "code",
   "execution_count": 31,
   "id": "112a550a",
   "metadata": {},
   "outputs": [
    {
     "data": {
      "image/png": "[encoded data removed]",
      "text/plain": [
       "<Figure size 432x288 with 1 Axes>"
      ]
     },
     "metadata": {
      "needs_background": "light"
     },
     "output_type": "display_data"
    }
   ],
   "source": [
    "plt.figure()\n",
    "plt.plot(fpr, tpr, color='darkorange')\n",
    "plt.plot([0, 1], [0, 1], color='navy', linestyle='--')\n",
    "plt.xlim([0.0, 1.0])\n",
    "plt.ylim([0.0, 1.05])\n",
    "plt.xlabel('False Positive Rate')\n",
    "plt.ylabel('True Positive Rate')\n",
    "plt.title('Receiver operating characteristic example')\n",
    "plt.show()"
   ]
  },
  {
   "cell_type": "code",
   "execution_count": 32,
   "id": "60489de7",
   "metadata": {},
   "outputs": [
    {
     "data": {
      "text/plain": [
       "0.9909615133751524"
      ]
     },
     "execution_count": 32,
     "metadata": {},
     "output_type": "execute_result"
    }
   ],
   "source": [
    "from sklearn.metrics import auc\n",
    "roc_auc = auc(fpr, tpr)\n",
    "roc_auc"
   ]
  },
  {
   "cell_type": "code",
   "execution_count": null,
   "id": "e9cc0adc",
   "metadata": {},
   "outputs": [],
   "source": []
  }
 ],
 "metadata": {
  "kernelspec": {
   "display_name": "Python 3 (ipykernel)",
   "language": "python",
   "name": "python3"
  },
  "language_info": {
   "codemirror_mode": {
    "name": "ipython",
    "version": 3
   },
   "file_extension": ".py",
   "mimetype": "text/x-python",
   "name": "python",
   "nbconvert_exporter": "python",
   "pygments_lexer": "ipython3",
   "version": "3.9.7"
  }
 },
 "nbformat": 4,
 "nbformat_minor": 5
}
