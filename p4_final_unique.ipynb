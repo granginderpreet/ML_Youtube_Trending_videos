{
 "cells": [
  {
   "cell_type": "code",
   "execution_count": null,
   "id": "7898729d",
   "metadata": {},
   "outputs": [],
   "source": [
    "# send to database\n",
    "# unique.to_sql('final_unique', engine)"
   ]
  },
  {
   "cell_type": "code",
   "execution_count": 1,
   "id": "22c2f088",
   "metadata": {},
   "outputs": [],
   "source": [
    "# dependencies\n",
    "\n",
    "import warnings\n",
    "warnings.filterwarnings('ignore')\n",
    "import numpy as np\n",
    "import pandas as pd\n",
    "import matplotlib.pyplot as plt\n",
    "from sqlalchemy import create_engine\n",
    "import datetime\n",
    "\n",
    "db_password = \"postgres\"\n",
    "db_user = \"postgres\"\n",
    "db_name = \"Youtube P3\"\n",
    "endpoint = 'youtube.cb1bticre0py.us-east-1.rds.amazonaws.com'\n",
    "\n",
    "connection_string = f\"postgresql://{db_user}:{db_password}@{endpoint}:5432/{db_name}\"\n",
    "engine = create_engine(connection_string)\n",
    "\n",
    "og_data = pd.read_sql('SELECT * FROM final_unique;', con = engine)"
   ]
  },
  {
   "cell_type": "code",
   "execution_count": 11,
   "id": "f30b0651",
   "metadata": {},
   "outputs": [],
   "source": [
    "# start here if you need to re-run instead of pulling from postgres in above cell\n",
    "\n",
    "final_unique = og_data.copy()"
   ]
  },
  {
   "cell_type": "code",
   "execution_count": 12,
   "id": "077b6828",
   "metadata": {},
   "outputs": [
    {
     "name": "stdout",
     "output_type": "stream",
     "text": [
      "video_id      20508\n",
      "trend_days    20508\n",
      "dtype: int64\n",
      "video_id      241112\n",
      "trend_days    241112\n",
      "dtype: int64\n",
      "video_id      0.0851\n",
      "trend_days    0.0851\n",
      "dtype: float64\n"
     ]
    }
   ],
   "source": [
    "## chose target_days for classification model\n",
    "\n",
    "target_df = pd.DataFrame(final_unique[['video_id', 'trend_days']])\n",
    "\n",
    "target_days = 8   #     <---- pick your target days here\n",
    "\n",
    "# prints statement below\n",
    "print(target_df[target_df.trend_days > target_days].count())\n",
    "print(target_df[target_df.trend_days > 0].count())              \n",
    "print(round((target_df[target_df.trend_days > target_days].count()) / (target_df[target_df.trend_days > 0].count()),4))     \n",
    "\n",
    "#             ↓↓↓↓↓  videos above days threshold / total videos / % of dataset above days threshold"
   ]
  },
  {
   "cell_type": "code",
   "execution_count": 13,
   "id": "1b8dadf2",
   "metadata": {},
   "outputs": [
    {
     "name": "stdout",
     "output_type": "stream",
     "text": [
      "(20508, 34)\n",
      "(20508, 34)\n",
      "(41016, 35)\n",
      " \n"
     ]
    },
    {
     "data": {
      "text/plain": [
       "Index(['index', 'video_id', 'category', 'category_e', 'country',\n",
       "       'publish_date', 'trending_date', 'publish_to_trend', 'publish_day',\n",
       "       'publish_day_num', 'combined_trend_days', 'trend_days', 'views',\n",
       "       'pt_views', 'wt_views', 'pt_views_rate', 'wt_views_rate', 'likes',\n",
       "       'pt_likes', 'wt_likes', 'pt_likes_rate', 'wt_likes_rate', 'likes_ratio',\n",
       "       'dislikes', 'pt_dislikes', 'wt_dislikes', 'pt_dislikes_rate',\n",
       "       'wt_dislikes_rate', 'comments', 'pt_comments', 'wt_comments',\n",
       "       'pt_comments_rate', 'wt_comments_rate', 'comments_ratio', 'target'],\n",
       "      dtype='object')"
      ]
     },
     "execution_count": 13,
     "metadata": {},
     "output_type": "execute_result"
    }
   ],
   "source": [
    "# create dataset with 50/50 > and < outcomes\n",
    "\n",
    "over_target = final_unique[final_unique.trend_days > target_days]\n",
    "under_target = final_unique[final_unique.trend_days <= target_days].sample(n=20508)  # <--- copy & paste top output of last cell\n",
    "\n",
    "df = pd.concat([over_target, under_target]).reset_index(drop=True)\n",
    "\n",
    "# add target to column to new 50/50 dataset\n",
    "\n",
    "df['target'] = df.trend_days > target_days\n",
    "df['target'] = df['target'].astype(int) # makes 1 or 0 for T or F\n",
    "\n",
    "df.reset_index(drop=True, inplace=True)\n",
    "\n",
    "print(over_target.shape)\n",
    "print(under_target.shape)\n",
    "print(df.shape)\n",
    "print(\" \")\n",
    "df.columns"
   ]
  },
  {
   "cell_type": "code",
   "execution_count": 6,
   "id": "c273e9d3",
   "metadata": {},
   "outputs": [],
   "source": [
    "# chose your features\n",
    "\n",
    "X = df[[\n",
    "    'category_e',\n",
    "    'publish_to_trend',\n",
    "    'publish_day_num',\n",
    "    'pt_views',\n",
    "    'pt_likes',\n",
    "    'pt_dislikes',\n",
    "    'pt_comments',\n",
    "    'likes_ratio',\n",
    "    'comments_ratio'\n",
    "    ]].to_numpy()\n",
    "\n",
    "y = df['target'].to_numpy()"
   ]
  },
  {
   "cell_type": "code",
   "execution_count": null,
   "id": "a5c592c7",
   "metadata": {},
   "outputs": [],
   "source": [
    "# if not scaling\n",
    "\n",
    "from sklearn.model_selection import train_test_split\n",
    "\n",
    "X_train, X_test, y_train, y_test = train_test_split(X, y, random_state=42)"
   ]
  },
  {
   "cell_type": "code",
   "execution_count": 8,
   "id": "63983cdc",
   "metadata": {},
   "outputs": [
    {
     "name": "stdout",
     "output_type": "stream",
     "text": [
      "(30762, 9)\n",
      "(30762,)\n"
     ]
    }
   ],
   "source": [
    "# if scaling\n",
    "\n",
    "from sklearn.preprocessing import StandardScaler\n",
    "\n",
    "scaler = StandardScaler()\n",
    "sclr  = scaler.fit(X)\n",
    "X_scaled = sclr.transform(X)\n",
    "\n",
    "from sklearn.model_selection import train_test_split\n",
    "\n",
    "X_train_scaled, X_test_scaled, y_train, y_test = train_test_split(X_scaled, y,random_state=1)\n",
    "\n",
    "print(X_train_scaled.shape)\n",
    "print(y_train.shape)"
   ]
  }
 ],
 "metadata": {
  "kernelspec": {
   "display_name": "Python 3 (ipykernel)",
   "language": "python",
   "name": "python3"
  },
  "language_info": {
   "codemirror_mode": {
    "name": "ipython",
    "version": 3
   },
   "file_extension": ".py",
   "mimetype": "text/x-python",
   "name": "python",
   "nbconvert_exporter": "python",
   "pygments_lexer": "ipython3",
   "version": "3.9.7"
  }
 },
 "nbformat": 4,
 "nbformat_minor": 5
}
